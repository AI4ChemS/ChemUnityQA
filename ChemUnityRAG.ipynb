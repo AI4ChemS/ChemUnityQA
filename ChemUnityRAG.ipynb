{
 "cells": [
  {
   "cell_type": "code",
   "execution_count": 1,
   "id": "6e0490b4",
   "metadata": {},
   "outputs": [
    {
     "name": "stderr",
     "output_type": "stream",
     "text": [
      "/var/folders/_l/c6v61_8n51j1d1jwmssq4ndw0000gn/T/ipykernel_42785/1928442264.py:10: LangChainDeprecationWarning: The class `Neo4jGraph` was deprecated in LangChain 0.3.8 and will be removed in 1.0. An updated version of the class exists in the :class:`~langchain-neo4j package and should be used instead. To use it run `pip install -U :class:`~langchain-neo4j` and import as `from :class:`~langchain_neo4j import Neo4jGraph``.\n",
      "  graph = Neo4jGraph(url=NEO4J_URI, username=NEO4J_USER, password=NEO4J_PASSWORD)\n"
     ]
    }
   ],
   "source": [
    "from langchain_community.graphs import Neo4jGraph\n",
    "from dotenv import load_dotenv\n",
    "import os\n",
    "\n",
    "load_dotenv()\n",
    "NEO4J_URI = os.getenv(\"NEO4J_URI\")\n",
    "NEO4J_USER = os.getenv(\"NEO4J_USER\")\n",
    "NEO4J_PASSWORD = os.getenv(\"NEO4J_PASSWORD\")\n",
    "\n",
    "graph = Neo4jGraph(url=NEO4J_URI, username=NEO4J_USER, password=NEO4J_PASSWORD)\n"
   ]
  },
  {
   "cell_type": "code",
   "execution_count": 2,
   "id": "4bb3447d",
   "metadata": {},
   "outputs": [
    {
     "name": "stderr",
     "output_type": "stream",
     "text": [
      "Received notification from DBMS server: {severity: WARNING} {code: Neo.ClientNotification.Statement.FeatureDeprecationWarning} {category: DEPRECATION} {title: This feature is deprecated and will be removed in future versions.} {description: CALL subquery without a variable scope clause is now deprecated. Use CALL (exists) { ... }} {position: line: 4, column: 1, offset: 71} for query: '\\nCALL gds.graph.exists(\\'mof_shared_features\\') YIELD exists\\nWITH exists\\nCALL {\\n  WITH exists\\n  CALL apoc.do.when(\\n    exists,\\n    \\'CALL gds.graph.drop(\"mof_shared_features\") YIELD graphName RETURN graphName\\',\\n    \\'RETURN \"no-drop\" AS graphName\\',\\n    {}\\n  ) YIELD value\\n  RETURN value.graphName AS dropped\\n}\\nRETURN dropped\\n'\n"
     ]
    },
    {
     "data": {
      "text/plain": [
       "[{'nodeProjection': {'Application': {'label': 'Application', 'properties': {}},\n",
       "   'Property': {'label': 'Property', 'properties': {}},\n",
       "   'Precursor': {'label': 'Precursor', 'properties': {}},\n",
       "   'Solvent': {'label': 'Solvent', 'properties': {}},\n",
       "   'MOF': {'label': 'MOF', 'properties': {}},\n",
       "   'Linker': {'label': 'Linker', 'properties': {}}},\n",
       "  'relationshipProjection': {'IS_RECOMMENDED_FOR': {'aggregation': 'DEFAULT',\n",
       "    'orientation': 'UNDIRECTED',\n",
       "    'indexInverse': False,\n",
       "    'properties': {},\n",
       "    'type': 'IS_RECOMMENDED_FOR'},\n",
       "   'HAS_PROPERTY': {'aggregation': 'DEFAULT',\n",
       "    'orientation': 'UNDIRECTED',\n",
       "    'indexInverse': False,\n",
       "    'properties': {},\n",
       "    'type': 'HAS_PROPERTY'},\n",
       "   'USES': {'aggregation': 'DEFAULT',\n",
       "    'orientation': 'UNDIRECTED',\n",
       "    'indexInverse': False,\n",
       "    'properties': {},\n",
       "    'type': 'USES'}},\n",
       "  'graphName': 'mof_shared_features',\n",
       "  'nodeCount': 70763,\n",
       "  'relationshipCount': 141504,\n",
       "  'projectMillis': 108}]"
      ]
     },
     "execution_count": 2,
     "metadata": {},
     "output_type": "execute_result"
    }
   ],
   "source": [
    "# Drop old projection if it exists, then project fresh\n",
    "graph.query(\"\"\"\n",
    "CALL gds.graph.exists('mof_shared_features') YIELD exists\n",
    "WITH exists\n",
    "CALL {\n",
    "  WITH exists\n",
    "  CALL apoc.do.when(\n",
    "    exists,\n",
    "    'CALL gds.graph.drop(\"mof_shared_features\") YIELD graphName RETURN graphName',\n",
    "    'RETURN \"no-drop\" AS graphName',\n",
    "    {}\n",
    "  ) YIELD value\n",
    "  RETURN value.graphName AS dropped\n",
    "}\n",
    "RETURN dropped\n",
    "\"\"\")\n",
    "\n",
    "graph.query(\"\"\"\n",
    "CALL gds.graph.project(\n",
    "  'mof_shared_features',\n",
    "  ['MOF','Application','Property','Linker','Precursor','Solvent'],\n",
    "  {\n",
    "    IS_RECOMMENDED_FOR: { type: 'IS_RECOMMENDED_FOR', orientation: 'UNDIRECTED' },\n",
    "    HAS_PROPERTY:       { type: 'HAS_PROPERTY',       orientation: 'UNDIRECTED' },\n",
    "    USES:               { type: 'USES',               orientation: 'UNDIRECTED' }\n",
    "  }\n",
    ")\n",
    "\n",
    "\"\"\")"
   ]
  },
  {
   "cell_type": "code",
   "execution_count": 3,
   "id": "d0a9b71c",
   "metadata": {},
   "outputs": [
    {
     "data": {
      "text/plain": [
       "[{'communityCount': 20467, 'modularity': 0.7459904252969936}]"
      ]
     },
     "execution_count": 3,
     "metadata": {},
     "output_type": "execute_result"
    }
   ],
   "source": [
    "# ==== 2) Community detection (flat / level-0) ====\n",
    "graph.query(\"\"\"\n",
    "CALL gds.leiden.write(\n",
    "  'mof_shared_features',\n",
    "  {\n",
    "    writeProperty: 'communityId',\n",
    "    includeIntermediateCommunities: true\n",
    "  }\n",
    ")\n",
    "YIELD communityCount, modularity\n",
    "\n",
    "\"\"\")"
   ]
  },
  {
   "cell_type": "code",
   "execution_count": 4,
   "id": "ee892293",
   "metadata": {},
   "outputs": [
    {
     "data": {
      "text/plain": [
       "[]"
      ]
     },
     "execution_count": 4,
     "metadata": {},
     "output_type": "execute_result"
    }
   ],
   "source": [
    "# ==== 3) Materialize :Community nodes and connect MOFs ====\n",
    "# - Create one Community per communityId\n",
    "# - Link each MOF with [:IN_COMMUNITY]\n",
    "graph.query(\"\"\"\n",
    "MATCH (m:MOF)\n",
    "WHERE m.communityId IS NOT NULL\n",
    "UNWIND range(0, size(m.communityId)-1) AS level\n",
    "WITH m, level, m.communityId[level] AS cid\n",
    "MERGE (c:Community {id: toString(cid), level: level})\n",
    "MERGE (m)-[:IN_COMMUNITY {level: level}]->(c)\n",
    "\"\"\")"
   ]
  },
  {
   "cell_type": "code",
   "execution_count": 11,
   "id": "f845db9c",
   "metadata": {},
   "outputs": [
    {
     "data": {
      "text/plain": [
       "'# (Optional) prune tiny communities (keep only >= 2 MOFs)\\ngraph.query(\"\"\"\\nMATCH (c:Community)\\nOPTIONAL MATCH (c)<-[:IN_COMMUNITY]-(m:MOF)\\nWITH c, count(m) AS mcount\\nWHERE mcount < 2\\nDETACH DELETE c\\n\"\"\")'"
      ]
     },
     "execution_count": 11,
     "metadata": {},
     "output_type": "execute_result"
    }
   ],
   "source": [
    "'''# (Optional) prune tiny communities (keep only >= 2 MOFs)\n",
    "graph.query(\"\"\"\n",
    "MATCH (c:Community)\n",
    "OPTIONAL MATCH (c)<-[:IN_COMMUNITY]-(m:MOF)\n",
    "WITH c, count(m) AS mcount\n",
    "WHERE mcount < 2\n",
    "DETACH DELETE c\n",
    "\"\"\")'''"
   ]
  },
  {
   "cell_type": "code",
   "execution_count": 5,
   "id": "ae045cc2",
   "metadata": {},
   "outputs": [],
   "source": [
    "community_info = graph.query(\"\"\"\n",
    "MATCH (c:Community {level: 2})<-[:IN_COMMUNITY]-(m:MOF)   // leaf-level (adjust level as needed)\n",
    "OPTIONAL MATCH (m)-[:IS_RECOMMENDED_FOR]->(a:Application)\n",
    "WITH c, m, collect(DISTINCT a.name) AS apps\n",
    "OPTIONAL MATCH (m)-[:HAS_PROPERTY]->(p:Property)\n",
    "WITH c, m, apps, collect(DISTINCT p.name + ': ' + p.value + ' ' + coalesce(p.units,'')) AS props\n",
    "OPTIONAL MATCH (t:Text)-[:MENTIONS|SUPPORTS|SYNTHESIZED_IN]->(m)\n",
    "OPTIONAL MATCH (t)-[:HAS_SOURCE]->(src:Paper)\n",
    "WITH c,\n",
    "     collect(DISTINCT m.refcode) AS mofs,\n",
    "     [x IN apps WHERE x IS NOT NULL] AS applications,\n",
    "     [y IN props WHERE y IS NOT NULL] AS properties,\n",
    "     [e IN collect(DISTINCT {type: t.type, text: t.text, doi: src.doi})\n",
    "        WHERE e.text IS NOT NULL AND e.text <> '' AND e.text <> '<no justification>'] AS evidence\n",
    "RETURN c.id AS communityId, c.level AS level, mofs, applications, properties, evidence\n",
    "ORDER BY communityId\n",
    "\"\"\")\n"
   ]
  },
  {
   "cell_type": "code",
   "execution_count": 16,
   "id": "a6e95468",
   "metadata": {},
   "outputs": [
    {
     "data": {
      "text/plain": [
       "[{'levelDepth': 1, 'communityCount': 7},\n",
       " {'levelDepth': 2, 'communityCount': 53},\n",
       " {'levelDepth': 3, 'communityCount': 985},\n",
       " {'levelDepth': 4, 'communityCount': 4122},\n",
       " {'levelDepth': 5, 'communityCount': 19566}]"
      ]
     },
     "execution_count": 16,
     "metadata": {},
     "output_type": "execute_result"
    }
   ],
   "source": [
    "levels = graph.query(\"\"\"\n",
    "MATCH (c:Community)\n",
    "WITH size(c.id) AS levelDepth, count(*) AS communityCount\n",
    "RETURN levelDepth, communityCount\n",
    "ORDER BY levelDepth\n",
    "\n",
    "\"\"\")\n",
    "levels\n"
   ]
  },
  {
   "cell_type": "code",
   "execution_count": 6,
   "id": "12dac907",
   "metadata": {},
   "outputs": [
    {
     "name": "stdout",
     "output_type": "stream",
     "text": [
      "Communities fetched: 14699\n",
      "Sample: {'communityId': '999', 'level': 2, 'mofs': ['MAVLIH'], 'applications': [], 'properties': ['Coordination Geometry: Distorted octahedral {CdN2O4} or {CdO6} ', 'Topology: Trinodal 3,4,5-connected net with the 3,4,5L45 topology '], 'evidence': [{'text': 'The 2D coordination polymers 8–10 were also generated under similar hydrothermal conditions but using different cadmiumIJII) salts as a starting material (Scheme 3).', 'type': 'Synthesis Justification', 'doi': '10.1039/C7CE00219J'}, {'text': '\"Both Cd1 and Cd2 centers are six-coordinate and possess a distorted octahedral {CdN2O4} or {CdO6} environment, respectively.\"', 'type': 'Property Justification', 'doi': '10.1039/C7CE00219J'}, {'text': '\"Topologically, this 2D layer is similar to 5, representing a trinodal 3,4,5-connected net with the 3,4,5L45 topology.\"', 'type': 'Property Justification', 'doi': '10.1039/C7CE00219J'}]}\n"
     ]
    }
   ],
   "source": [
    "print(f\"Communities fetched: {len(community_info)}\")\n",
    "print(\"Sample:\", community_info[-1])\n"
   ]
  },
  {
   "cell_type": "code",
   "execution_count": 21,
   "id": "b8144b0b",
   "metadata": {},
   "outputs": [
    {
     "data": {
      "text/plain": [
       "{'communityId': '12323',\n",
       " 'mofs': ['LUMLIQ'],\n",
       " 'applications': [],\n",
       " 'properties': ['Synthesis Yield: 74 %',\n",
       "  'Pore Volume: 9.3 %',\n",
       "  'Topology: 4,4,5T14 '],\n",
       " 'evidence': [{'text': 'This complex was obtained in a similar method to that of 1, but Zn(NO3)2·6H2O was replaced by Cd(NO3)2·4H2O (0.49g; 1.6mmol). Colorless crystals of 5 were obtained (yield: 0.298g, 74% based on Cd(NO3)2·4H2O).',\n",
       "   'type': 'Synthesis Justification',\n",
       "   'doi': '10.1016/j.ica.2015.05.003'},\n",
       "  {'text': 'The void space was calculated using PLATON, suggesting 9.3% (168.0Å3) void volume to the total crystal volume.',\n",
       "   'type': 'Property Justification',\n",
       "   'doi': '10.1016/j.ica.2015.05.003'},\n",
       "  {'text': 'Complex 5 consists of three dimensional (3D) (4,4,5)-connected net with 4,4,5T14 topology (Fig. 10b).',\n",
       "   'type': 'Property Justification',\n",
       "   'doi': '10.1016/j.ica.2015.05.003'},\n",
       "  {'text': 'Colorless crystals of 5 were obtained (yield: 0.298g, 74% based on Cd(NO3)2·4H2O).',\n",
       "   'type': 'Property Justification',\n",
       "   'doi': '10.1016/j.ica.2015.05.003'}]}"
      ]
     },
     "execution_count": 21,
     "metadata": {},
     "output_type": "execute_result"
    }
   ],
   "source": [
    "community_info[1400]"
   ]
  },
  {
   "cell_type": "code",
   "execution_count": 28,
   "id": "3736b6f5",
   "metadata": {},
   "outputs": [
    {
     "name": "stderr",
     "output_type": "stream",
     "text": [
      "Summarizing level 5 communities: 100%|██████████| 5/5 [00:55<00:00, 11.17s/it]\n"
     ]
    },
    {
     "data": {
      "text/plain": [
       "[{'communityId': '11',\n",
       "  'summary': 'OPURIB01\\n\\n- Core reason for grouping: The cluster appears driven by documentation gaps (missing synthesis/properties data) rather than confirmed chemical similarity, mirroring Ce−MDIP1/2’s lack of procedural details.\\n\\n- Suspected chemical theme: If aligned with the Ce−MDIP family, this group likely revolves around lanthanide-based nodes with MDIP-type linkers, often pursued for redox/catalytic or adsorption applications, though OPURIB01’s specifics are not stated.\\n\\n- Key, non-trivial insight: The primary signal is a metadata/reproducibility issue in the dataset—not a validated chemical feature—highlighting the need for accessible synthesis and property data to clarify actual similarities among these MOFs.'},\n",
       " {'communityId': '12',\n",
       "  'summary': 'RUGPAM: Zn2(BPPA)2(BDC)2·6H2O (C60H54N6O14Zn2, MW 1213.14). Monoclinic crystal system, P21/c; V = 8383(3) Å3; density 0.876 g cm−3. Forms a 4-fold interpenetrated 3D network with sra topology. Hydration water present (6 H2O). Thermal stability shows a gradual weight loss of ~8.42% from 20 to ~225 °C, indicating dehydration followed by limited framework stability before decomposition. The synthesis details are not provided in the documents. This MOF exemplifies Zn2-based frameworks with BPPA and BDC ligands, where high interpenetration and sra nets yield dense packing and reduced porosity, a recurring theme in this community. Common features across similar MOFs include Zn2 nodes, BPPA/BDC ligand combinations, monoclinic P21/c symmetry, and fourfold interpenetration.'},\n",
       " {'communityId': '12',\n",
       "  'summary': 'IRORIS: This MOF sits in a Zn-to-Cd analog family, grouped by a shared synthesis route to 1 and 2 and retention of the same framework motif. It crystallizes as red, block-shaped single crystals via the same procedure, yielding ~55% over ~2 weeks. Structurally, it is triclinic with space group P1̅ and Z = 2, and features a seven-coordinate Cd(II) node in a distorted CdO5N2 pentagonal-bipyramidal geometry. The grouping emphasizes the robustness of the underlying topology under metal substitution (Zn to Cd) and the resulting shift in metal coordination environment while preserving the overall framework. This reflects a non-trivial variation: identical topological scaffold driven by different metal centers, yielding distinct local geometry but similar crystallization behavior.'},\n",
       " {'communityId': '12',\n",
       "  'summary': 'AHOBAB\\n\\nAHOBAB is a Mn-based MOF built from 4-aminobenzoic acid and azide bridges, forming a monoclinic P21/c framework. The formula C7H6MnN4O2 implies a compact Mn–azido–carboxylate motif typical of azide-bridged networks. Synthesis is solvothermal: 4-aminobenzoic acid (0.5 mmol), MnCl2·4H2O, NaN3, ethanol/water, 393 K for 7 days, yielding brown needle crystals at 40%. Magnetic data show Mn2+ centers with χM = 3.6176 cm3 K mol−1 and a negative parameter (-84.07 K), suggesting weak antiferromagnetic interactions between Mn sites. Crystallography is monoclinic, space group P21/c, with moderate yield and needle-like habit consistent with similar MOFs in this community. Key shared features include Mn centers, azido‑bridged linkages, monoclinic symmetry, and comparable solvothermal routes yielding needle crystals.'},\n",
       " {'communityId': '12',\n",
       "  'summary': 'WUZFON: A Zn(II)-based MOF built from ligand L and ZnCl2, crystallizing in triclinic system, space group P1̅, with V = 2329(5) Å^3 and ρ = 1.175 g cm−3. The Zn(1) node is five-coordinate in a distorted trigonal bipyramidal geometry, with the pyridyl N and two Cl atoms forming the equatorial plane—typical of flexible Zn–Cl–pyridine motifs. The framework exhibits ligand-centered luminescence with emission bands at 510, 604, and 626 nm, indicating multiple emissive ligand environments. Synthesis via solution growth from L and ZnCl2 in CH2Cl2 with a CH3CN/toluene/CH2Cl2 buffer yields yellow crystals after ~10 days. These features—distorted five-coordinate Zn nodes, low-symmetry P1̅ packing, and multi-band ligand emission—align WUZFON with other Zn-ligand, luminescent MOFs formed by similar solvothermal/solution-growth routes.'}]"
      ]
     },
     "execution_count": 28,
     "metadata": {},
     "output_type": "execute_result"
    }
   ],
   "source": [
    "from tqdm import tqdm\n",
    "from openai import OpenAI\n",
    "\n",
    "client = OpenAI()\n",
    "\n",
    "# Get only levelDepth 5 communities\n",
    "level5_comms = graph.query(\"\"\"\n",
    "MATCH (c:Community)<-[:IN_COMMUNITY]-(m:MOF)\n",
    "WHERE size(c.id) = 2\n",
    "OPTIONAL MATCH (m)-[:IS_RECOMMENDED_FOR]->(a:Application)\n",
    "WITH c, m, collect(DISTINCT a.name) AS apps\n",
    "OPTIONAL MATCH (m)-[:HAS_PROPERTY]->(p:Property)\n",
    "WITH c, m, apps, collect(DISTINCT p.name + ': ' + p.value + ' ' + coalesce(p.units,'')) AS props\n",
    "OPTIONAL MATCH (t:Text)-[:MENTIONS|SUPPORTS|SYNTHESIZED_IN]->(m)\n",
    "OPTIONAL MATCH (t)-[:HAS_SOURCE]->(src:Paper)\n",
    "WITH c,\n",
    "     collect(DISTINCT m.refcode) AS mofs,\n",
    "     [x IN apps WHERE x IS NOT NULL] AS applications,\n",
    "     [y IN props WHERE y IS NOT NULL] AS properties,\n",
    "     [e IN collect(DISTINCT {type: t.type, text: t.text, doi: src.doi})\n",
    "        WHERE e.text IS NOT NULL AND e.text <> '' AND e.text <> '<no justification>'] AS evidence\n",
    "RETURN c.id AS communityId, mofs, applications, properties, evidence\n",
    "ORDER BY communityId\n",
    "LIMIT 5\n",
    "\"\"\")\n",
    "\n",
    "# Summarize 5 communities\n",
    "summaries = []\n",
    "for comm in tqdm(level5_comms, desc=\"Summarizing level 5 communities\"):\n",
    "    content = f\"\"\"\n",
    "Community ID: {comm['communityId']}\n",
    "\n",
    "MOFs:\n",
    "{', '.join(comm.get('mofs', []))}\n",
    "\n",
    "Applications:\n",
    "{', '.join([a for a in comm.get('applications', []) if a])}\n",
    "\n",
    "Properties:\n",
    "{', '.join([p for p in comm.get('properties', []) if p])}\n",
    "\n",
    "Evidence (sampled justifications):\n",
    "{\" | \".join([e['text'] for e in comm.get('evidence', [])[:5]])}\n",
    "\"\"\"\n",
    "\n",
    "    response = client.chat.completions.create(\n",
    "        model=\"gpt-5-nano\",  # or gpt-5-nano for cheaper/faster runs\n",
    "        messages=[\n",
    "            {\n",
    "                \"role\": \"system\",\n",
    "                \"content\": (\n",
    "                    \"You are an expert Metal-Organic Framework (MOF) Chemist \"\n",
    "                    \"A subset of MOFs has been flagged as similar based on shared applications, properties, and more.\"\n",
    "                    \"It is your job to reason as to why these MOFs are grouped together. \"\n",
    "                    \"Provide a brief summary of the community, focusing on share similarities and key features. \"\n",
    "                    \"Be concise but emphasize the most distinct, non-trivial insights. \"\n",
    "                    \"Keep your response under 150 words. Be sure to include the MOF names at the start of your summary.\"\n",
    "                )\n",
    "            },\n",
    "            {\n",
    "                \"role\": \"user\",\n",
    "                \"content\": f\"Summarize the following MOF community:\\n{content}\"\n",
    "            }\n",
    "        ],\n",
    "        #temperature=0.4\n",
    "    )\n",
    "\n",
    "    summaries.append({\n",
    "        \"communityId\": comm[\"communityId\"],\n",
    "        \"summary\": response.choices[0].message.content\n",
    "    })\n",
    "\n",
    "summaries\n"
   ]
  },
  {
   "cell_type": "code",
   "execution_count": 24,
   "id": "478121a8",
   "metadata": {},
   "outputs": [
    {
     "data": {
      "text/plain": [
       "{'communityId': '10086',\n",
       " 'summary': '- Community 10086 focuses on UDADAH01, an Ag(I)-based MOF/coordination polymer formed with the HL3-p ligand, crystallizing as Ag(HL3-p)NO3.\\n\\n- Key chemical features\\n  - Metal center: Silver(I)\\n  - Organic linker: HL3-p (multidentate N-donor character implied by the ligand name)\\n  - Counterion/ligand: Nitrate (NO3−) incorporated in the formula\\n  - Structure: Coordination polymer / MOF-type assembly suggested by the formula Ag(HL3-p)NO3\\n\\n- Synthesis and basic properties (from evidence)\\n  - Solvothermal synthesis in methanol: HL3-p (6.6 mg, 0.03 mmol) with AgNO3 (5.1 mg, 0.03 mmol) in CH3OH (3 mL)\\n  - Conditions: 120 °C for 72 h, followed by slow cooling (–5 °C h–1)\\n  - Outcome: Colorless crystals obtained\\n\\n- Why this MOF groups with others in the same community\\n  - Common metal-ligand chemistry: Ag(I) centers coordinated by a multidentate N-donor ligand (HL3-p)\\n  - Similar counterion chemistry: nitrate present within the framework\\n  - Shared synthetic approach: solvothermal growth in methanol with equimolar AgNO3 and ligand\\n  - Resulting material class: a nitrate-containing Ag(I) coordination polymer/MOF with colorless crystalline product\\n\\n- Distinctive, non-trivial insight\\n  - UDADAH01 demonstrates a nitrate-bridged Ag(I) framework stabilized by a multidentate HL3-p ligand, crystallizing under a relatively standard solvothermal methanol route. The colorless crystal outcome hints at a ligand/cluster environment lacking strong visible chromophores, which can influence photophysical properties commonly explored in Ag-based MOFs but is not explicitly reported here.'}"
      ]
     },
     "execution_count": 24,
     "metadata": {},
     "output_type": "execute_result"
    }
   ],
   "source": [
    "summaries[3]"
   ]
  },
  {
   "cell_type": "code",
   "execution_count": 12,
   "id": "e2eef7bb",
   "metadata": {},
   "outputs": [
    {
     "name": "stdout",
     "output_type": "stream",
     "text": [
      "           mofCount\n",
      "count  24733.000000\n",
      "mean       4.676465\n",
      "std       36.046328\n",
      "min        1.000000\n",
      "25%        1.000000\n",
      "50%        1.000000\n",
      "75%        1.000000\n",
      "max     1170.000000\n"
     ]
    },
    {
     "data": {
      "image/png": "[encoded data removed]",
      "text/plain": [
       "<Figure size 800x600 with 1 Axes>"
      ]
     },
     "metadata": {},
     "output_type": "display_data"
    }
   ],
   "source": [
    "import matplotlib.pyplot as plt\n",
    "import pandas as pd\n",
    "\n",
    "# query Neo4j for community sizes\n",
    "results = graph.query(\"\"\"\n",
    "MATCH (c:Community)<-[:IN_COMMUNITY]-(m:MOF)\n",
    "WITH c, count(m) AS mofCount\n",
    "RETURN c.id AS communityId, mofCount\n",
    "\"\"\")\n",
    "\n",
    "# convert to DataFrame\n",
    "df = pd.DataFrame(results)\n",
    "\n",
    "# quick stats\n",
    "print(df.describe())\n",
    "\n",
    "# histogram of community sizes\n",
    "plt.figure(figsize=(8,6))\n",
    "plt.hist(df[\"mofCount\"], bins=30, edgecolor=\"black\")\n",
    "plt.xlabel(\"Number of MOFs in Community\")\n",
    "plt.ylabel(\"Number of Communities\")\n",
    "plt.title(\"Distribution of Community Sizes\")\n",
    "plt.yscale(\"log\")  # often useful if distribution is heavy-tailed\n",
    "\n",
    "plt.show()\n",
    "\n"
   ]
  },
  {
   "cell_type": "code",
   "execution_count": 32,
   "id": "99f17683",
   "metadata": {},
   "outputs": [
    {
     "name": "stdout",
     "output_type": "stream",
     "text": [
      "bin           1-2  3-10  11-50  51-200  201-1000  1000+\n",
      "levelDepth                                             \n",
      "1               7     0      0       0         0      0\n",
      "2              38     5      2       4         3      1\n",
      "3             885    48     26      14        11      1\n",
      "4            3406   373    123     155        58      7\n",
      "5           18135  1003    270     131        23      4\n"
     ]
    },
    {
     "name": "stderr",
     "output_type": "stream",
     "text": [
      "/var/folders/_l/c6v61_8n51j1d1jwmssq4ndw0000gn/T/ipykernel_42785/4290446990.py:18: FutureWarning: The default of observed=False is deprecated and will be changed to True in a future version of pandas. Pass observed=False to retain current behavior or observed=True to adopt the future default and silence this warning.\n",
      "  summary = df.groupby([\"levelDepth\", \"bin\"]).size().reset_index(name=\"numCommunities\")\n"
     ]
    }
   ],
   "source": [
    "# Query: get community sizes by level\n",
    "community_sizes = graph.query(\"\"\"\n",
    "MATCH (c:Community)<-[:IN_COMMUNITY]-(m:MOF)\n",
    "WITH c, count(DISTINCT m) AS mofCount, size(c.id) AS levelDepth\n",
    "RETURN levelDepth, mofCount\n",
    "\"\"\")\n",
    "\n",
    "import pandas as pd\n",
    "df = pd.DataFrame(community_sizes)\n",
    "\n",
    "# Define bins for community sizes\n",
    "bins = [0, 2, 10, 50, 200, 1000, 1000000]\n",
    "labels = [\"1-2\", \"3-10\", \"11-50\", \"51-200\", \"201-1000\", \"1000+\"]\n",
    "\n",
    "df[\"bin\"] = pd.cut(df[\"mofCount\"], bins=bins, labels=labels, right=True)\n",
    "\n",
    "# Count per level and bin\n",
    "summary = df.groupby([\"levelDepth\", \"bin\"]).size().reset_index(name=\"numCommunities\")\n",
    "\n",
    "# Pivot for cleaner printing\n",
    "table = summary.pivot(index=\"levelDepth\", columns=\"bin\", values=\"numCommunities\").fillna(0).astype(int)\n",
    "print(table)\n"
   ]
  },
  {
   "cell_type": "markdown",
   "id": "6175143f",
   "metadata": {},
   "source": [
    "## So, lets just exclude all communities with 1-5 MOFs and summarize the rest!"
   ]
  },
  {
   "cell_type": "code",
   "execution_count": 68,
   "id": "64d20255",
   "metadata": {},
   "outputs": [],
   "source": [
    "all_comms = graph.query(\"\"\"\n",
    "MATCH (c:Community)<-[:IN_COMMUNITY]-(m:MOF)\n",
    "OPTIONAL MATCH (m)-[:IS_RECOMMENDED_FOR]->(a:Application)\n",
    "WITH c, m, collect(DISTINCT a.name) AS apps\n",
    "OPTIONAL MATCH (m)-[:HAS_PROPERTY]->(p:Property)\n",
    "WITH c, m, apps, collect(DISTINCT p.name + ': ' + p.value + ' ' + coalesce(p.units,'')) AS props\n",
    "OPTIONAL MATCH (t:Text)-[:MENTIONS|SUPPORTS|SYNTHESIZED_IN]->(m)\n",
    "OPTIONAL MATCH (t)-[:HAS_SOURCE]->(src:Paper)\n",
    "WITH c,\n",
    "     collect(DISTINCT m.refcode) AS mofs,\n",
    "     [x IN apps WHERE x IS NOT NULL] AS applications,\n",
    "     [y IN props WHERE y IS NOT NULL] AS properties,\n",
    "     [e IN collect(DISTINCT {type: t.type, text: t.text, doi: src.doi})\n",
    "        WHERE e.text IS NOT NULL AND e.text <> '' AND e.text <> '<no justification>'] AS evidence\n",
    "RETURN c.id AS communityId, mofs, applications, properties, evidence\n",
    "ORDER BY communityId\n",
    "\"\"\")\n"
   ]
  },
  {
   "cell_type": "code",
   "execution_count": 78,
   "id": "d4cc25b2",
   "metadata": {},
   "outputs": [
    {
     "name": "stdout",
     "output_type": "stream",
     "text": [
      "Total communities: 112274\n",
      "Eligible (>5 MOFs): 208\n"
     ]
    }
   ],
   "source": [
    "eligible_comms = [c for c in all_comms if len(c.get(\"mofs\", [])) > 4]\n",
    "\n",
    "print(f\"Total communities: {len(all_comms)}\")\n",
    "print(f\"Eligible (>5 MOFs): {len(eligible_comms)}\")\n"
   ]
  },
  {
   "cell_type": "code",
   "execution_count": 79,
   "id": "e8bbc831",
   "metadata": {},
   "outputs": [
    {
     "name": "stderr",
     "output_type": "stream",
     "text": [
      "Summarizing communities: 100%|██████████| 208/208 [03:17<00:00,  1.05it/s]"
     ]
    },
    {
     "name": "stdout",
     "output_type": "stream",
     "text": [
      "✅ Saved 208 summaries to community_summaries.jsonl\n"
     ]
    },
    {
     "name": "stderr",
     "output_type": "stream",
     "text": [
      "\n"
     ]
    }
   ],
   "source": [
    "from tqdm import tqdm\n",
    "from openai import OpenAI\n",
    "from concurrent.futures import ThreadPoolExecutor, as_completed\n",
    "import json\n",
    "\n",
    "client = OpenAI()\n",
    "\n",
    "\n",
    "def summarize_community(comm):\n",
    "    \"\"\"Summarize a single community.\"\"\"\n",
    "    all_mofs = comm.get(\"mofs\", [])\n",
    "    sample_mofs = all_mofs[:5]\n",
    "    mof_text = f\"{', '.join(sample_mofs)} ... (total: {len(all_mofs)})\"\n",
    "\n",
    "    apps = [a for a in comm.get(\"applications\", []) if a]\n",
    "    props = comm.get(\"properties\", [])[:10]\n",
    "    evidence = [e[\"text\"] for e in comm.get(\"evidence\", []) if e.get(\"text\")]\n",
    "    evidence = evidence[:5]\n",
    "\n",
    "    content = f\"\"\"\n",
    "Community ID: {comm['communityId']}\n",
    "\n",
    "MOFs (sample):\n",
    "{mof_text}\n",
    "\n",
    "Applications:\n",
    "{', '.join(apps)}\n",
    "\n",
    "Properties (sample):\n",
    "{', '.join(props)}\n",
    "\n",
    "Evidence (sampled justifications):\n",
    "{\" | \".join(evidence)}\n",
    "\"\"\"\n",
    "\n",
    "    try:\n",
    "        response = client.chat.completions.create(\n",
    "            model=\"gpt-4o-mini\",  # or gpt-5-nano\n",
    "            messages=[\n",
    "                {\n",
    "                    \"role\": \"system\",\n",
    "                    \"content\": (\n",
    "                        \"You are an expert Metal-Organic Framework (MOF) chemist. \"\n",
    "                        \"A group of MOFs has been clustered together based on shared features. \"\n",
    "                        \"Your task is to analyze why these MOFs might belong in the same research community.\\n\\n\"\n",
    "                        \"Specifically:\\n\"\n",
    "                        \"- Identify common **applications** (e.g., gas storage, catalysis, drug delivery).\\n\"\n",
    "                        \"- Identify recurring **properties** (e.g., pore size, surface area, stability values).\\n\"\n",
    "                        \"- Identify potential **structural similarities** (e.g., same linker type, metal nodes, or topology).\\n\"\n",
    "                        \"- Provide reasoning about how these factors might be connected.\\n\\n\"\n",
    "                        \"Be concise (≤150 words) and emphasize non-trivial insights. \"\n",
    "                        \"Do not just list items — infer why these MOFs are related.\"\n",
    "                    )\n",
    "                },\n",
    "                {\"role\": \"user\", \"content\": f\"Summarize the following MOF community:\\n{content}\"}\n",
    "            ],\n",
    "            temperature=0.4\n",
    "        )\n",
    "        summary_text = response.choices[0].message.content\n",
    "    except Exception as e:\n",
    "        summary_text = f\"Error generating summary: {str(e)}\"\n",
    "\n",
    "    return {\n",
    "        \"communityId\": comm[\"communityId\"],\n",
    "        \"mofs\": all_mofs,               # keep full list for retrieval\n",
    "        \"applications\": apps,\n",
    "        \"properties\": props,\n",
    "        \"summary\": summary_text\n",
    "    }\n",
    "\n",
    "# --- Parallel execution ---\n",
    "summaries = []\n",
    "with ThreadPoolExecutor(max_workers=5) as executor:\n",
    "    futures = {executor.submit(summarize_community, comm): comm for comm in eligible_comms}\n",
    "    for future in tqdm(as_completed(futures), total=len(futures), desc=\"Summarizing communities\"):\n",
    "        summaries.append(future.result())\n",
    "\n",
    "# --- Save to JSONL ---\n",
    "with open(\"community_summaries.jsonl\", \"w\") as f:\n",
    "    for rec in summaries:\n",
    "        f.write(json.dumps(rec) + \"\\n\")\n",
    "\n",
    "print(f\"✅ Saved {len(summaries)} summaries to community_summaries.jsonl\")\n"
   ]
  },
  {
   "cell_type": "code",
   "execution_count": null,
   "id": "777b8127",
   "metadata": {},
   "outputs": [],
   "source": [
    "from tqdm import tqdm\n",
    "from openai import OpenAI\n",
    "from concurrent.futures import ThreadPoolExecutor, as_completed\n",
    "import json\n",
    "\n",
    "client = OpenAI()\n",
    "\n",
    "\n",
    "def summarize_community(comm):\n",
    "    \"\"\"Summarize a single community.\"\"\"\n",
    "    all_mofs = comm.get(\"mofs\", [])\n",
    "    sample_mofs = all_mofs[:5]\n",
    "    mof_text = f\"{', '.join(sample_mofs)} ... (total: {len(all_mofs)})\"\n",
    "\n",
    "    apps = [a for a in comm.get(\"applications\", []) if a]\n",
    "    props = comm.get(\"properties\", [])[:10]\n",
    "    evidence = [e[\"text\"] for e in comm.get(\"evidence\", []) if e.get(\"text\")]\n",
    "    evidence = evidence[:5]\n",
    "\n",
    "    content = f\"\"\"\n",
    "Community ID: {comm['communityId']}\n",
    "\n",
    "MOFs (sample):\n",
    "{mof_text}\n",
    "\n",
    "Applications:\n",
    "{', '.join(apps)}\n",
    "\n",
    "Properties (sample):\n",
    "{', '.join(props)}\n",
    "\n",
    "Evidence (sampled justifications):\n",
    "{\" | \".join(evidence)}\n",
    "\"\"\"\n",
    "\n",
    "    try:\n",
    "        response = client.chat.completions.create(\n",
    "            model=\"gpt-4o-mini\",  # or gpt-5-nano\n",
    "            messages=[\n",
    "                {\n",
    "                    \"role\": \"system\",\n",
    "                    \"content\": (\n",
    "                        \"You are an expert Metal-Organic Framework (MOF) chemist. \"\n",
    "                        \"A group of MOFs has been clustered together based on shared features. \"\n",
    "                        \"Your task is to analyze why these MOFs might belong in the same research community.\\n\\n\"\n",
    "                        \"Specifically:\\n\"\n",
    "                        \"- Identify common **applications** (e.g., gas storage, catalysis, drug delivery).\\n\"\n",
    "                        \"- Identify recurring **properties** (e.g., pore size, surface area, stability values).\\n\"\n",
    "                        \"- Identify potential **structural similarities** (e.g., same linker type, metal nodes, or topology).\\n\"\n",
    "                        \"- Provide reasoning about how these factors might be connected.\\n\\n\"\n",
    "                        \"Be concise (≤150 words) and emphasize non-trivial insights. \"\n",
    "                        \"Do not just list items — infer why these MOFs are related.\"\n",
    "                    )\n",
    "                },\n",
    "                {\"role\": \"user\", \"content\": f\"Summarize the following MOF community:\\n{content}\"}\n",
    "            ],\n",
    "            temperature=0.4\n",
    "        )\n",
    "        summary_text = response.choices[0].message.content\n",
    "    except Exception as e:\n",
    "        summary_text = f\"Error generating summary: {str(e)}\"\n",
    "\n",
    "    return {\n",
    "        \"communityId\": comm[\"communityId\"],\n",
    "        \"mofs\": all_mofs,               # keep full list for retrieval\n",
    "        \"applications\": apps,\n",
    "        \"properties\": props,\n",
    "        \"summary\": summary_text\n",
    "    }\n",
    "\n",
    "# --- Parallel execution ---\n",
    "summaries = []\n",
    "with ThreadPoolExecutor(max_workers=5) as executor:\n",
    "    futures = {executor.submit(summarize_community, comm): comm for comm in eligible_comms}\n",
    "    for future in tqdm(as_completed(futures), total=len(futures), desc=\"Summarizing communities\"):\n",
    "        summaries.append(future.result())\n",
    "\n",
    "# --- Save to JSONL ---\n",
    "with open(\"community_summaries.jsonl\", \"w\") as f:\n",
    "    for rec in summaries:\n",
    "        f.write(json.dumps(rec) + \"\\n\")\n",
    "\n",
    "print(f\"✅ Saved {len(summaries)} summaries to community_summaries.jsonl\")\n"
   ]
  },
  {
   "cell_type": "markdown",
   "id": "44ba699c",
   "metadata": {},
   "source": [
    "## Now add summaries back onto graph in Community Nodes"
   ]
  },
  {
   "cell_type": "code",
   "execution_count": 80,
   "id": "fe842918",
   "metadata": {},
   "outputs": [],
   "source": [
    "for s in summaries:\n",
    "    graph.query(\n",
    "        \"\"\"\n",
    "        MATCH (c:Community {id: $cid})\n",
    "        SET c.summary = $summary\n",
    "        \"\"\",\n",
    "        {\"cid\": s[\"communityId\"], \"summary\": s[\"summary\"]}\n",
    "    )\n"
   ]
  },
  {
   "cell_type": "markdown",
   "id": "f7303763",
   "metadata": {},
   "source": [
    "## We only generated summaries some communities, which means we don't have complete coverage:"
   ]
  },
  {
   "cell_type": "code",
   "execution_count": 81,
   "id": "37fb6980",
   "metadata": {},
   "outputs": [
    {
     "name": "stdout",
     "output_type": "stream",
     "text": [
      "Covered MOFs: 8344\n",
      "Total MOFs: 15119\n"
     ]
    }
   ],
   "source": [
    "covered = graph.query(\"\"\"\n",
    "MATCH (c:Community)\n",
    "WHERE c.summary IS NOT NULL\n",
    "MATCH (c)<-[:IN_COMMUNITY]-(m:MOF)\n",
    "RETURN count(DISTINCT m) AS coveredMOFs\n",
    "\"\"\")\n",
    "\n",
    "total = graph.query(\"\"\"\n",
    "MATCH (m:MOF)\n",
    "RETURN count(m) AS totalMOFs\n",
    "\"\"\")\n",
    "\n",
    "print(\"Covered MOFs:\", covered[0][\"coveredMOFs\"])\n",
    "print(\"Total MOFs:\", total[0][\"totalMOFs\"])\n"
   ]
  },
  {
   "cell_type": "code",
   "execution_count": 87,
   "id": "76457350",
   "metadata": {},
   "outputs": [
    {
     "name": "stdout",
     "output_type": "stream",
     "text": [
      "Total communities: 112274\n",
      "Eligible (>5 MOFs): 1437\n"
     ]
    }
   ],
   "source": [
    "eligible_comms_d = [c for c in all_comms if len(c.get(\"mofs\", [])) > 1]\n",
    "\n",
    "print(f\"Total communities: {len(all_comms)}\")\n",
    "print(f\"Eligible (>5 MOFs): {len(eligible_comms_d)}\")"
   ]
  },
  {
   "cell_type": "code",
   "execution_count": null,
   "id": "0f5a848a",
   "metadata": {},
   "outputs": [],
   "source": []
  }
 ],
 "metadata": {
  "kernelspec": {
   "display_name": "hackathon",
   "language": "python",
   "name": "python3"
  },
  "language_info": {
   "codemirror_mode": {
    "name": "ipython",
    "version": 3
   },
   "file_extension": ".py",
   "mimetype": "text/x-python",
   "name": "python",
   "nbconvert_exporter": "python",
   "pygments_lexer": "ipython3",
   "version": "3.13.7"
  }
 },
 "nbformat": 4,
 "nbformat_minor": 5
}
