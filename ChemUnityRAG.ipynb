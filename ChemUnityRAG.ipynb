{
 "cells": [
  {
   "cell_type": "code",
   "execution_count": 24,
   "id": "6e0490b4",
   "metadata": {},
   "outputs": [],
   "source": [
    "from langchain_community.graphs import Neo4jGraph\n",
    "from dotenv import load_dotenv\n",
    "import os\n",
    "\n",
    "load_dotenv()\n",
    "NEO4J_URI = os.getenv(\"NEO4J_URI\")\n",
    "NEO4J_USER = os.getenv(\"NEO4J_USER\")\n",
    "NEO4J_PASSWORD = os.getenv(\"NEO4J_PASSWORD\")\n",
    "\n",
    "graph = Neo4jGraph(url=NEO4J_URI, username=NEO4J_USER, password=NEO4J_PASSWORD)\n"
   ]
  },
  {
   "cell_type": "code",
   "execution_count": 28,
   "id": "4bb3447d",
   "metadata": {},
   "outputs": [
    {
     "name": "stderr",
     "output_type": "stream",
     "text": [
      "Received notification from DBMS server: {severity: WARNING} {code: Neo.ClientNotification.Statement.FeatureDeprecationWarning} {category: DEPRECATION} {title: This feature is deprecated and will be removed in future versions.} {description: CALL subquery without a variable scope clause is now deprecated. Use CALL (exists) { ... }} {position: line: 4, column: 1, offset: 71} for query: '\\nCALL gds.graph.exists(\\'mof_shared_features\\') YIELD exists\\nWITH exists\\nCALL {\\n  WITH exists\\n  CALL apoc.do.when(\\n    exists,\\n    \\'CALL gds.graph.drop(\"mof_shared_features\") YIELD graphName RETURN graphName\\',\\n    \\'RETURN \"no-drop\" AS graphName\\',\\n    {}\\n  ) YIELD value\\n  RETURN value.graphName AS dropped\\n}\\nRETURN dropped\\n'\n"
     ]
    },
    {
     "data": {
      "text/plain": [
       "[{'nodeProjection': {'Application': {'label': 'Application', 'properties': {}},\n",
       "   'Property': {'label': 'Property', 'properties': {}},\n",
       "   'Precursor': {'label': 'Precursor', 'properties': {}},\n",
       "   'Solvent': {'label': 'Solvent', 'properties': {}},\n",
       "   'MOF': {'label': 'MOF', 'properties': {}},\n",
       "   'Linker': {'label': 'Linker', 'properties': {}}},\n",
       "  'relationshipProjection': {'IS_RECOMMENDED_FOR': {'aggregation': 'DEFAULT',\n",
       "    'orientation': 'UNDIRECTED',\n",
       "    'indexInverse': False,\n",
       "    'properties': {},\n",
       "    'type': 'IS_RECOMMENDED_FOR'},\n",
       "   'HAS_PROPERTY': {'aggregation': 'DEFAULT',\n",
       "    'orientation': 'UNDIRECTED',\n",
       "    'indexInverse': False,\n",
       "    'properties': {},\n",
       "    'type': 'HAS_PROPERTY'},\n",
       "   'USES': {'aggregation': 'DEFAULT',\n",
       "    'orientation': 'UNDIRECTED',\n",
       "    'indexInverse': False,\n",
       "    'properties': {},\n",
       "    'type': 'USES'}},\n",
       "  'graphName': 'mof_shared_features',\n",
       "  'nodeCount': 70763,\n",
       "  'relationshipCount': 141504,\n",
       "  'projectMillis': 30}]"
      ]
     },
     "execution_count": 28,
     "metadata": {},
     "output_type": "execute_result"
    }
   ],
   "source": [
    "# Drop old projection if it exists, then project fresh\n",
    "graph.query(\"\"\"\n",
    "CALL gds.graph.exists('mof_shared_features') YIELD exists\n",
    "WITH exists\n",
    "CALL {\n",
    "  WITH exists\n",
    "  CALL apoc.do.when(\n",
    "    exists,\n",
    "    'CALL gds.graph.drop(\"mof_shared_features\") YIELD graphName RETURN graphName',\n",
    "    'RETURN \"no-drop\" AS graphName',\n",
    "    {}\n",
    "  ) YIELD value\n",
    "  RETURN value.graphName AS dropped\n",
    "}\n",
    "RETURN dropped\n",
    "\"\"\")\n",
    "\n",
    "graph.query(\"\"\"\n",
    "CALL gds.graph.project(\n",
    "  'mof_shared_features',\n",
    "  ['MOF','Application','Property','Linker','Precursor','Solvent'],\n",
    "  {\n",
    "    IS_RECOMMENDED_FOR: { type: 'IS_RECOMMENDED_FOR', orientation: 'UNDIRECTED' },\n",
    "    HAS_PROPERTY:       { type: 'HAS_PROPERTY',       orientation: 'UNDIRECTED' },\n",
    "    USES:               { type: 'USES',               orientation: 'UNDIRECTED' }\n",
    "  }\n",
    ")\n",
    "\n",
    "\"\"\")"
   ]
  },
  {
   "cell_type": "code",
   "execution_count": 37,
   "id": "d0a9b71c",
   "metadata": {},
   "outputs": [
    {
     "data": {
      "text/plain": [
       "[{'communityCount': 20463, 'modularity': 0.7452422727627188}]"
      ]
     },
     "execution_count": 37,
     "metadata": {},
     "output_type": "execute_result"
    }
   ],
   "source": [
    "# ==== 2) Community detection (flat / level-0) ====\n",
    "graph.query(\"\"\"\n",
    "CALL gds.leiden.write(\n",
    "  'mof_shared_features',\n",
    "  { writeProperty: 'communityId' }   // unweighted; add relationshipWeightProperty:'weight' if you have it\n",
    ")\n",
    "YIELD communityCount, modularity\n",
    "\"\"\")"
   ]
  },
  {
   "cell_type": "code",
   "execution_count": 38,
   "id": "ee892293",
   "metadata": {},
   "outputs": [
    {
     "data": {
      "text/plain": [
       "[]"
      ]
     },
     "execution_count": 38,
     "metadata": {},
     "output_type": "execute_result"
    }
   ],
   "source": [
    "# ==== 3) Materialize :Community nodes and connect MOFs ====\n",
    "# - Create one Community per communityId\n",
    "# - Link each MOF with [:IN_COMMUNITY]\n",
    "graph.query(\"\"\"\n",
    "MATCH (m:MOF)\n",
    "WHERE m.communityId IS NOT NULL\n",
    "WITH m.communityId AS cid, collect(m) AS mofs\n",
    "MERGE (c:Community {id: toString(cid)})\n",
    "WITH c, mofs\n",
    "UNWIND mofs AS m\n",
    "MERGE (m)-[:IN_COMMUNITY]->(c)\n",
    "\n",
    "\"\"\")"
   ]
  },
  {
   "cell_type": "code",
   "execution_count": 39,
   "id": "f845db9c",
   "metadata": {},
   "outputs": [
    {
     "data": {
      "text/plain": [
       "[]"
      ]
     },
     "execution_count": 39,
     "metadata": {},
     "output_type": "execute_result"
    }
   ],
   "source": [
    "# (Optional) prune tiny communities (keep only >= 2 MOFs)\n",
    "graph.query(\"\"\"\n",
    "MATCH (c:Community)\n",
    "OPTIONAL MATCH (c)<-[:IN_COMMUNITY]-(m:MOF)\n",
    "WITH c, count(m) AS mcount\n",
    "WHERE mcount < 2\n",
    "DETACH DELETE c\n",
    "\"\"\")"
   ]
  },
  {
   "cell_type": "code",
   "execution_count": 40,
   "id": "ae045cc2",
   "metadata": {},
   "outputs": [],
   "source": [
    "community_info = graph.query(\"\"\"\n",
    "MATCH (c:Community)<-[:IN_COMMUNITY]-(m:MOF)\n",
    "OPTIONAL MATCH (m)-[:IS_RECOMMENDED_FOR]->(a:Application)\n",
    "WITH c, m, collect(DISTINCT a.name) AS apps\n",
    "OPTIONAL MATCH (m)-[:HAS_PROPERTY]->(p:Property)\n",
    "WITH c, m, apps, collect(DISTINCT p.name + ': ' + p.value + ' ' + coalesce(p.units,'')) AS props\n",
    "OPTIONAL MATCH (t:Text)-[:MENTIONS|SUPPORTS|SYNTHESIZED_IN]->(m)\n",
    "OPTIONAL MATCH (t)-[:HAS_SOURCE]->(src:Paper)\n",
    "WITH c,\n",
    "     collect(DISTINCT m.refcode) AS mofs,\n",
    "     [x IN apps WHERE x IS NOT NULL] AS applications,\n",
    "     [y IN props WHERE y IS NOT NULL] AS properties,\n",
    "     [e IN collect(DISTINCT {type: t.type, text: t.text, doi: src.doi})\n",
    "        WHERE e.text IS NOT NULL AND e.text <> '' AND e.text <> '<no justification>'] AS evidence\n",
    "RETURN c.id AS communityId, mofs, applications, properties, evidence\n",
    "ORDER BY communityId\n",
    "\"\"\")"
   ]
  },
  {
   "cell_type": "code",
   "execution_count": 36,
   "id": "12dac907",
   "metadata": {},
   "outputs": [
    {
     "name": "stdout",
     "output_type": "stream",
     "text": [
      "Communities fetched: 25900\n",
      "Sample: {'communityId': '9619', 'mofs': ['PULHOT'], 'applications': ['Catalysis'], 'properties': ['Crystal System: Monoclinic ', 'Space Group: P21/n ', 'Cell Volume: 1510.1 Å³', 'Density: 2.31 g cm⁻³', 'Magnetic Susceptibility: 5.60 emu', 'Magnetic Moment: 6.69 μB per manganese cation', 'Thermal Stability: 19 %'], 'evidence': [{'text': 'The title compound [MnGa(PO3OH)2(PO4)][C6N2H14] was synthesized either as a pure polycrystalline phase (reaction (i)) or as single crystals (reaction (ii)) from predominantly nonaqueous systems under solvothermal conditions. In reaction (i), Ga2O3 (0.4 g), MnCl2·4H2O (0.88 g), and 1,4-diazabicyclo[2.2.2]octane (DABCO) (3.35 g) were dispersed in 5.95 cm³ of ethylene glycol by stirring. Orthophosphoric acid (2.35 cm³, 85 wt %) was then added with further stirring to give a gel with overall composition Ga2O3:2.1MnCl2·4H2O:16H3PO4:50HOCH2CH2OH:14DABCO. The gel was stirred until homogeneous, sealed in a Teflon-lined stainless steel autoclave, and heated at 433 K for 7 days. The solid product was collected by filtration, washed with distilled water, and left to dry overnight in air at 343 K.', 'type': 'Synthesis Justification', 'doi': '10.1021/cm9701623'}, {'text': 'TGA measurements suggest that removal of the organic species may be facile, permitting the microporous nature of the material to be exploited, for example in catalytic applications.', 'type': 'Application Justification', 'doi': '10.1021/cm9701623'}, {'text': 'The title compound [MnGa(PO3OH)2(PO4)][C6N2H14] was synthesized either as a pure polycrystalline phase (reaction (i)) or as single crystals (reaction (ii)) from predominantly nonaqueous systems under solvothermal conditions.', 'type': 'Property Justification', 'doi': '10.1021/cm9701623'}, {'text': 'On the basis of the systematic absence conditions in the reduced data (h0l,h+lodd; 0k0,kodd), the space group was determined to be P21/n (nonstandard setting of No. 14).', 'type': 'Property Justification', 'doi': '10.1021/cm9701623'}, {'text': 'cell\\u2009volume\\u2009(Å3) 1510.1', 'type': 'Property Justification', 'doi': '10.1021/cm9701623'}, {'text': 'ρcalc\\u2009(g\\u2009cm-3) 2.31', 'type': 'Property Justification', 'doi': '10.1021/cm9701623'}, {'text': 'Magnetic susceptibility data in the temperature range 70 ≤ T ≤ 340 K can be fitted to a Curie−Weiss law with derived parameters θ = −20.2(2)K and C= 5.60(2) emu.', 'type': 'Property Justification', 'doi': '10.1021/cm9701623'}, {'text': 'The latter corresponds to an effective magnetic moment of 6.69(1)μB per manganese cation.', 'type': 'Property Justification', 'doi': '10.1021/cm9701623'}, {'text': 'Thermogravimetric analysis (TGA) of the product from reaction (i), performed under a flow of nitrogen gas on a Stanton Redcroft STA1500 thermal analyzer over the range 293−973 K at a heating rate of 10 K per minute, showed a gradual weight loss over the range 593−773 K. The total observed weight loss was ∼19%, compared with the calculated value of 21% for complete removal of the organic species.', 'type': 'Property Justification', 'doi': '10.1021/cm9701623'}]}\n"
     ]
    }
   ],
   "source": [
    "print(f\"Communities fetched: {len(community_info)}\")\n",
    "print(\"Sample:\", community_info[-1])\n"
   ]
  },
  {
   "cell_type": "code",
   "execution_count": 21,
   "id": "b8144b0b",
   "metadata": {},
   "outputs": [
    {
     "data": {
      "text/plain": [
       "{'communityId': '12323',\n",
       " 'mofs': ['LUMLIQ'],\n",
       " 'applications': [],\n",
       " 'properties': ['Synthesis Yield: 74 %',\n",
       "  'Pore Volume: 9.3 %',\n",
       "  'Topology: 4,4,5T14 '],\n",
       " 'evidence': [{'text': 'This complex was obtained in a similar method to that of 1, but Zn(NO3)2·6H2O was replaced by Cd(NO3)2·4H2O (0.49g; 1.6mmol). Colorless crystals of 5 were obtained (yield: 0.298g, 74% based on Cd(NO3)2·4H2O).',\n",
       "   'type': 'Synthesis Justification',\n",
       "   'doi': '10.1016/j.ica.2015.05.003'},\n",
       "  {'text': 'The void space was calculated using PLATON, suggesting 9.3% (168.0Å3) void volume to the total crystal volume.',\n",
       "   'type': 'Property Justification',\n",
       "   'doi': '10.1016/j.ica.2015.05.003'},\n",
       "  {'text': 'Complex 5 consists of three dimensional (3D) (4,4,5)-connected net with 4,4,5T14 topology (Fig. 10b).',\n",
       "   'type': 'Property Justification',\n",
       "   'doi': '10.1016/j.ica.2015.05.003'},\n",
       "  {'text': 'Colorless crystals of 5 were obtained (yield: 0.298g, 74% based on Cd(NO3)2·4H2O).',\n",
       "   'type': 'Property Justification',\n",
       "   'doi': '10.1016/j.ica.2015.05.003'}]}"
      ]
     },
     "execution_count": 21,
     "metadata": {},
     "output_type": "execute_result"
    }
   ],
   "source": [
    "community_info[1400]"
   ]
  },
  {
   "cell_type": "code",
   "execution_count": 15,
   "id": "3736b6f5",
   "metadata": {},
   "outputs": [
    {
     "name": "stderr",
     "output_type": "stream",
     "text": [
      "Summarizing communities: 100%|██████████| 10/10 [01:02<00:00,  6.26s/it]\n"
     ]
    },
    {
     "data": {
      "text/plain": [
       "[{'communityId': '12116',\n",
       "  'summary': \"**Community ID: 12116 Summary**\\n\\n**MOF:** XANZAQ\\n\\n**Applications:** Hydrogen Capture\\n\\n**Chemical Features and Properties:**\\n- **Coordination Geometry:** The Cu2+ ion in XANZAQ exhibits a six-coordinated geometry, which is critical for stabilizing the framework and facilitating gas adsorption. The coordination involves four nitrogen atoms from Btz ligands and two μ2-Cl– anions, indicating a robust metal-ligand interaction that enhances structural integrity.\\n- **Pore Volume:** With a pore volume of 45%, XANZAQ presents a significant capacity for gas storage, making it particularly suitable for applications in hydrogen capture. This high porosity is essential for maximizing the surface area available for adsorption.\\n- **Thermal Stability:** The MOF demonstrates a remarkable thermal stability across a pH range of 1–13, which is advantageous for practical applications in varying environmental conditions. This stability ensures that the material can maintain its structural integrity and functionality over a wide range of operational scenarios.\\n\\n**Distinct Insights:**\\nThe grouping of XANZAQ within this community is primarily due to its optimized coordination geometry and high pore volume, which are critical for effective hydrogen capture. The combination of these features not only enhances the MOF's adsorption capabilities but also ensures durability and stability under diverse conditions, making it a prime candidate for applications in hydrogen storage technologies. The shared focus on metal-ligand interactions and structural robustness reflects a broader trend in the design of MOFs aimed at gas capture applications.\"},\n",
       " {'communityId': '12116',\n",
       "  'summary': '**Community ID: 12116 - Summary of MOF: EQOCES01**\\n\\n**Applications:**  \\nThe specific applications of EQOCES01 have not been detailed in the provided information. However, given the chemical composition and structural characteristics, it is likely that this MOF could be explored for applications in gas storage, catalysis, or as a framework for drug delivery, which are common uses for MOFs with similar properties.\\n\\n**Properties:**  \\n- **Crystal System:** Orthorhombic  \\n- **Space Group:** Pbca  \\n- **Chemical Formula:** C18H23N8OCo2  \\n- **Cell Volume:** 4699.0 Å³  \\n- **Density:** 1.372 g\\u2009cm⁻³  \\n- **Synthesis Yield:** 3 days  \\n\\n**Distinct Insights:**  \\nEQOCES01 is characterized by its orthorhombic crystal system and a relatively large cell volume, indicating a spacious framework that may facilitate the accommodation of guest molecules. The presence of cobalt in its chemical formula suggests potential magnetic properties, which could be advantageous for applications in magnetic resonance imaging or as a catalyst in various chemical reactions. The moderate density also indicates a balance between porosity and structural integrity, which is crucial for applications involving gas separation or storage.\\n\\nOverall, this MOF community is likely grouped due to its structural features that suggest versatility in applications related to gas interactions and catalytic processes, alongside the potential for unique magnetic properties stemming from its cobalt content.'},\n",
       " {'communityId': '12116',\n",
       "  'summary': '**Community ID: 12116 Summary**\\n\\n**MOF:** MIHKEU\\n\\n**Shared Applications:** The specific applications for this MOF are not detailed, but given its structural and thermal properties, it may be suitable for gas storage, catalysis, or as a sensor material.\\n\\n**Chemical Features and Property Trends:**\\n- **Crystal System:** Monoclinic, indicating a unique arrangement that may contribute to specific interactions with guest molecules.\\n- **Space Group:** P21/n, which suggests a non-centrosymmetric structure that can be advantageous for nonlinear optical applications.\\n- **Synthesis Yield:** 55%, reflecting a moderate efficiency in the synthesis process, which may affect scalability for industrial applications.\\n- **Chemical Formula:** C11H9Cl2N5Zn, indicating the presence of zinc, which is often associated with catalytic activity and stability in MOFs.\\n- **Density:** 1.701 g cm-3, suggesting a relatively high density that may influence gas adsorption capacities.\\n- **Coordination Geometry:** Zigzag chains, which can enhance the porosity and surface area, facilitating interactions with various guest molecules.\\n- **Thermal Stability:** No obvious weight loss up to 400 °C, indicating good thermal stability, making it suitable for high-temperature applications.\\n\\n**Distinct Insights:**\\nThe combination of a monoclinic crystal system with zigzag chain coordination geometry suggests that MIHKEU may exhibit unique adsorption characteristics, potentially enhancing its performance in applications such as gas separation or catalysis. The presence of zinc and the thermal stability up to 400 °C further imply that this MOF could be particularly effective in environments where durability and structural integrity are crucial. The moderate synthesis yield may indicate a need for optimization in production methods to enhance its practical utility.'},\n",
       " {'communityId': '12116',\n",
       "  'summary': 'Community ID: 12116 encompasses the MOF ABAZAF, which is characterized by its monoclinic crystal system and belongs to the space group P2(1)/c. The synthesis yield of 55% indicates a moderate efficiency in its production, while its thermal stability at 311 °C suggests robustness under elevated temperatures. Notably, ABAZAF exhibits photoluminescence with an emission wavelength of 559 nm, which is indicative of potential applications in optoelectronics or sensing technologies.\\n\\nThe grouping of ABAZAF within this community likely stems from its unique combination of structural features and functional properties. The monoclinic structure may confer specific porosity characteristics that enhance gas adsorption or separation capabilities, while the thermal stability allows for practical applications in environments where heat resistance is critical. The photoluminescent property at 559 nm positions ABAZAF as a candidate for applications in light-emitting devices or as a fluorescent probe in chemical sensing.\\n\\nIn summary, this community is defined by MOFs that share a similar structural framework and exhibit significant thermal stability and photoluminescent properties, making them suitable for advanced applications in materials science and technology.'},\n",
       " {'communityId': '12116',\n",
       "  'summary': \"**Community ID: 12116 - Summary of MOF YAHMEA**\\n\\n**MOF:** YAHMEA\\n\\n**Key Properties:**\\n- **Synthesis Yield:** 81%\\n- **Space Group:** P-1\\n- **Thermal Stability:** 311 °C\\n- **Chemical Formula:** C14H17N4O5PZn\\n- **Formula Weight:** 417.66 g/mol\\n\\n**Insights:**\\nThis community is characterized by its notable thermal stability and efficient synthesis yield, which are critical for practical applications in various fields. The thermal stability of 311 °C suggests that YAHMEA can maintain structural integrity under elevated temperatures, making it suitable for applications in gas storage and separation, catalysis, and sensing technologies.\\n\\nThe chemical formula indicates the presence of zinc, which is often associated with enhanced catalytic properties and stability in MOFs. The inclusion of phosphorus-containing groups may also suggest potential applications in drug delivery or as a platform for biomimetic reactions, given phosphorus's role in biological systems.\\n\\nOverall, the grouping of YAHMEA within this community likely reflects its multifunctional properties and versatility in applications, particularly in areas requiring thermal resilience and chemical robustness. These shared characteristics highlight the potential for further exploration in the fields of material science and nanotechnology.\"},\n",
       " {'communityId': '12116',\n",
       "  'summary': 'Community ID: 12116 encompasses the MOF BINRUN, which is primarily recognized for its application as a gas adsorbent material. The grouping of this MOF within the community can be attributed to several distinct features:\\n\\n1. **Shared Applications**: The primary application of BINRUN as a gas adsorbent highlights its potential for capturing and storing gases, which is a common functionality among MOFs designed for similar purposes. This suggests that members of this community likely exhibit comparable gas adsorption capabilities, making them suitable for applications in carbon capture, hydrogen storage, or natural gas storage.\\n\\n2. **Chemical Features**: The chemical formula of BINRUN, [Zn3(BTN)2(H2O)3]·16DMF, indicates a framework that incorporates zinc as a metal center, which is a prevalent choice in MOF synthesis due to its favorable coordination properties and stability. The presence of DMF (dimethylformamide) as a solvent in the synthesis process may also suggest a trend in the use of organic solvents that can influence the porosity and surface area of the resulting MOFs.\\n\\n3. **Property Trends**: With a synthesis yield of 55%, this MOF demonstrates a moderate efficiency in its production, which is significant for scalability in industrial applications. Such yields can be indicative of the synthetic methods employed and may reflect on the reproducibility and feasibility of producing similar MOFs within this community.\\n\\nIn summary, the community surrounding BINRUN is characterized by its focus on gas adsorption applications, shared chemical features involving zinc-based frameworks, and a notable synthesis yield that may reflect broader trends in the development of efficient and effective gas adsorbent materials.'},\n",
       " {'communityId': '12116',\n",
       "  'summary': \"**Community ID: 12116 Summary**\\n\\nThe MOF identified as KIJPEA belongs to a community characterized by specific structural and chemical features that influence its potential applications. \\n\\n**Shared Properties:**\\n- **Crystal System:** Monoclinic, which often indicates a certain degree of symmetry and can affect the stability and porosity of the material.\\n- **Synthesis Yield:** 55%, suggesting moderate efficiency in its synthesis, which may impact scalability for industrial applications.\\n- **Coordination Geometry:** Octahedral, a common geometry in coordination complexes that can enhance the MOF's ability to interact with guest molecules.\\n- **Space Group:** P2/c, which provides insights into the packing and symmetry of the MOF structure, influencing its physical properties.\\n- **Chemical Formula:** C21H17N3O6Zn, indicating the presence of zinc, a metal often used in MOFs for its favorable coordination properties.\\n- **Density:** 1.600 g/cm³, which is indicative of the material's compactness and can influence its gas adsorption capabilities.\\n\\n**Shared Applications:**\\nWhile specific applications are not detailed, the properties suggest potential uses in gas storage, catalysis, or sensing, particularly due to the octahedral coordination of zinc, which is known to facilitate interactions with various gases.\\n\\n**Distinct Insights:**\\nThe combination of a monoclinic crystal system and octahedral coordination geometry is particularly noteworthy, as these features can lead to unique pore structures that optimize gas adsorption and separation processes. The moderate synthesis yield indicates a balance between complexity and practicality, suggesting that while the MOF may have specialized applications, its synthesis could be optimized further for broader use.\\n\\nOverall, the community is grouped based on these interrelated properties that collectively enhance the functional performance of KIJPEA in potential applications, particularly in areas requiring efficient gas interactions.\"},\n",
       " {'communityId': '12116',\n",
       "  'summary': 'Community ID: 12116 encompasses the MOF KIQHOH01, characterized by its orthorhombic crystal system and a synthesis yield of 55%. The space group Pna21 suggests a specific arrangement of the framework that influences its properties and potential applications. The near-linear coordination geometry indicates a specific bonding arrangement that can enhance stability and porosity.\\n\\n**Shared Applications and Properties:**\\nThis community likely groups together due to the unique structural features of KIQHOH01, which may facilitate applications in gas storage or separation, catalysis, or sensing. The density of 2.293 Mg m³ suggests a moderate porosity, which is a desirable trait for MOFs in these applications.\\n\\n**Distinct Insights:**\\nThe combination of the orthorhombic crystal system and near-linear coordination geometry may lead to specific interactions with guest molecules, enhancing selectivity in applications such as gas adsorption. The synthesis yield of 55% indicates a moderate efficiency, which could be a focal point for optimization in future research. Overall, the properties and structural characteristics of KIQHOH01 suggest a tailored approach for specific applications in materials science and engineering.'},\n",
       " {'communityId': '12116',\n",
       "  'summary': \"**Community ID: 12116 - Summary of MOFs**\\n\\n**MOF:** CALBEY\\n\\n**Applications:**\\nWhile specific applications for CALBEY are not detailed, MOFs in this community generally exhibit properties conducive to gas storage, separation, and catalysis, which are common applications in the field.\\n\\n**Properties:**\\n- **Crystal System:** Triclinic\\n- **Space Group:** P1\\n- **Synthesis Yield:** 55%\\n- **Coordination Geometry:** Distorted Octahedral and Tetrahedral\\n\\n**Distinct Insights:**\\n1. **Crystal Structure:** The triclinic crystal system and P1 space group suggest a complex and potentially flexible framework, which is often advantageous for applications requiring high porosity and tunability.\\n2. **Coordination Geometries:** The presence of both distorted octahedral and tetrahedral coordination geometries indicates a diverse range of metal-ligand interactions, which can lead to unique electronic and catalytic properties. This diversity may enhance the MOF's ability to host various guest molecules, making it suitable for applications in gas adsorption and separation.\\n3. **Moderate Synthesis Yield:** A synthesis yield of 55% indicates that while the material can be produced relatively efficiently, there may be room for optimization in synthesis protocols to improve yield and scalability.\\n\\nIn summary, the grouping of CALBEY within this community is likely due to its unique structural features that lend themselves to versatile applications in gas-related technologies, combined with its moderate synthesis efficiency which highlights potential for further development.\"},\n",
       " {'communityId': '12116',\n",
       "  'summary': \"Community ID: 12116 comprises the MOF CIVTEH, which is primarily focused on hydrogen capture applications. This community is characterized by its distinct coordination geometry, which is slightly distorted square-pyramidal, a feature that may influence the MOF's interaction with hydrogen molecules.\\n\\nThe notable H2 uptake of 67.3% suggests a high efficiency in hydrogen storage, making these MOFs particularly relevant for energy applications, especially in hydrogen fuel technologies. The shared application of hydrogen capture indicates that members of this community likely possess similar structural features that optimize gas adsorption.\\n\\nThe combination of the specific coordination geometry and the high hydrogen uptake capacity highlights a trend where slight distortions in geometry can significantly enhance gas interaction properties, a non-trivial insight that could guide future MOF design for similar applications.\"}]"
      ]
     },
     "execution_count": 15,
     "metadata": {},
     "output_type": "execute_result"
    }
   ],
   "source": [
    "from tqdm import tqdm\n",
    "from openai import OpenAI\n",
    "\n",
    "# make sure your OPENAI_API_KEY is set in your environment\n",
    "client = OpenAI()\n",
    "\n",
    "summaries = []\n",
    "for comm in tqdm(community_info[:10], desc=\"Summarizing communities\"):  # adjust slice as needed\n",
    "    content = f\"\"\"\n",
    "Community ID: {comm['communityId']}\n",
    "\n",
    "MOFs:\n",
    "{', '.join(comm.get('mofs', []))}\n",
    "\n",
    "Applications:\n",
    "{', '.join([a for a in comm.get('applications', []) if a])}\n",
    "\n",
    "Properties:\n",
    "{', '.join([p for p in comm.get('properties', []) if p])}\n",
    "\n",
    "Evidence (sampled justifications):\n",
    "{\" | \".join(comm.get('justifications', [])[:5])}\n",
    "\"\"\"\n",
    "\n",
    "    response = client.chat.completions.create(\n",
    "        model=\"gpt-4o-mini\",  # or \"gpt-5-nano\" if you want faster/lighter\n",
    "        messages=[\n",
    "            {\n",
    "                \"role\": \"system\",\n",
    "                \"content\": (\n",
    "                    \"You are a scientific assistant specializing in MOFs. \"\n",
    "                    \"Your task is to summarize research communities of MOFs discovered by graph clustering. \"\n",
    "                    \"Explain why these MOFs are grouped together, highlighting shared applications, \"\n",
    "                    \"chemical features, or property trends. \"\n",
    "                    \"Be concise but emphasize the most distinct, non-trivial insights. \"\n",
    "                    \"Incorporate textual justifications only if they provide useful evidence.\"\n",
    "                )\n",
    "            },\n",
    "            {\n",
    "                \"role\": \"user\",\n",
    "                \"content\": f\"Summarize the following MOF community:\\n{content}\"\n",
    "            }\n",
    "        ],\n",
    "        temperature=0.4\n",
    "    )\n",
    "\n",
    "    summaries.append({\n",
    "        \"communityId\": comm[\"communityId\"],\n",
    "        \"summary\": response.choices[0].message.content\n",
    "    })\n",
    "\n",
    "summaries\n"
   ]
  },
  {
   "cell_type": "code",
   "execution_count": 42,
   "id": "e2eef7bb",
   "metadata": {},
   "outputs": [
    {
     "name": "stdout",
     "output_type": "stream",
     "text": [
      "          mofCount\n",
      "count   497.000000\n",
      "mean     80.619718\n",
      "std     157.607178\n",
      "min       2.000000\n",
      "25%       2.000000\n",
      "50%       3.000000\n",
      "75%      92.000000\n",
      "max    1122.000000\n"
     ]
    },
    {
     "data": {
      "image/png": "[encoded data removed]",
      "text/plain": [
       "<Figure size 800x600 with 1 Axes>"
      ]
     },
     "metadata": {},
     "output_type": "display_data"
    }
   ],
   "source": [
    "import matplotlib.pyplot as plt\n",
    "import pandas as pd\n",
    "\n",
    "# query Neo4j for community sizes\n",
    "results = graph.query(\"\"\"\n",
    "MATCH (c:Community)<-[:IN_COMMUNITY]-(m:MOF)\n",
    "WITH c, count(m) AS mofCount\n",
    "RETURN c.id AS communityId, mofCount\n",
    "\"\"\")\n",
    "\n",
    "# convert to DataFrame\n",
    "df = pd.DataFrame(results)\n",
    "\n",
    "# quick stats\n",
    "print(df.describe())\n",
    "\n",
    "# histogram of community sizes\n",
    "plt.figure(figsize=(8,6))\n",
    "plt.hist(df[\"mofCount\"], bins=30, edgecolor=\"black\")\n",
    "plt.xlabel(\"Number of MOFs in Community\")\n",
    "plt.ylabel(\"Number of Communities\")\n",
    "plt.title(\"Distribution of Community Sizes\")\n",
    "plt.yscale(\"log\")  # often useful if distribution is heavy-tailed\n",
    "plt.show()\n"
   ]
  },
  {
   "cell_type": "code",
   "execution_count": null,
   "id": "99f17683",
   "metadata": {},
   "outputs": [],
   "source": []
  },
  {
   "cell_type": "code",
   "execution_count": null,
   "id": "e9322044",
   "metadata": {},
   "outputs": [],
   "source": []
  }
 ],
 "metadata": {
  "kernelspec": {
   "display_name": "hackathon",
   "language": "python",
   "name": "python3"
  },
  "language_info": {
   "codemirror_mode": {
    "name": "ipython",
    "version": 3
   },
   "file_extension": ".py",
   "mimetype": "text/x-python",
   "name": "python",
   "nbconvert_exporter": "python",
   "pygments_lexer": "ipython3",
   "version": "3.13.7"
  }
 },
 "nbformat": 4,
 "nbformat_minor": 5
}
