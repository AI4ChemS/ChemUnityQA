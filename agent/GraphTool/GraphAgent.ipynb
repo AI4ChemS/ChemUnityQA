{
 "cells": [
  {
   "cell_type": "code",
   "execution_count": 3,
   "id": "ca56ffd6",
   "metadata": {},
   "outputs": [
    {
     "name": "stdout",
     "output_type": "stream",
     "text": [
      "Loaded 1437 summaries\n",
      "{'communityId': '103', 'mofs': ['ULOKAJ', 'MIMVIN', 'LUMYID', 'QIWDOR', 'QEZBUV', 'BAMKIM', 'CAQSUK', 'PUDRIQ', 'ETIXIQ', 'ICIKEL'], 'applications': [], 'properties': ['Space Group: C2/c '], 'summary': 'Community ID 103 clusters MOFs that exhibit significant potential for **guest encapsulation**, suggesting applications in **drug delivery** or **sensing**. The recurring **property** of crystallization in the **C2/c space group** indicates a common structural framework that supports the formation of stable, porous networks, which is essential for accommodating various guest molecules. \\n\\nThe **structural similarities** include the use of **square planar metal nodes** (e.g., Zn) and a consistent topology (42.84 and 44), which enhances the stability and functionality of these MOFs. This shared architecture likely facilitates similar guest-host interactions, allowing for tailored modifications to optimize performance in specific applications. \\n\\nThe interplay between these factors—common applications, properties, and structural motifs—suggests that these MOFs are designed for efficient encapsulation and release mechanisms, making them valuable in fields like drug delivery and catalysis.', 'mof_names': ['[Pr(CDA)]', '[Zn3(pyt)4(OH)2]n', '{[Cd2(μ3-OH)\\xad(tzia)\\xad(H2O)2]·H2O}(n5)', '{[Ni(L)(H2O)2]·4H2O}', '{[Mn2(tpta)\\xad(H2O)2]·2H2O}', 'Cu3(3PPN)2(hfac)6', 'Net3d', 'MIL-121', 'MIL-121_as', 'MIL-121_ht', 'Co3(dca)6(H2O)4·2(2,3,5-tmpdo)', '{Zn3(L)2(OX)3·H2O}∞(6)', '[Zn(dmtz)(HCOO)]·(1/6Me2NH)(1/4H2O)', 'MAF-X4', '[Cd2(p-xda)3{Ni(CN)4}2]·2C4H5N', '[Cd(C6H5NH2)2(p-xda)Ni(CN)4]', 'Cd−TPyP-3', '{[Mn3(μ5-L)2(H2O)6]·4H2O}', 'Cd\\xad(HL)\\xad(DMF)', 'Zn4(trz)4(Hnip)2(nip)', '{[Dy2(FDA)3(DMF)2]·1.5DMF}', 'C11H14N4O16LaZn2', 'C11H14N4O16NdZn2', 'Cu(HCO2)2(pym)', '[Cu\\xad(pa)\\xad(bib)]∞', 'Cu-MOF', '[Zn3(L1)2(4,4′-bpy)2]·(Hn2O)2', '[Cu2Br2(bipypy)]', '[TbCu(3-tzba)2(H2O)4]', '[GdCu(3-tzba)2(H2O)4]', 'IAuP4PAuI', 'IAuP4PAuI·CH2Cl2', '[Cd\\xad(adi)\\xad(Niox)]n', 'C23.5H28.5TbN2.5O10.5', 'MIL-112', 'ZnHPO3−His', 'Ag(L1)(O2CCF3)', '[Ni(HF2)(pyz)2]PF6', 'UCY-2/EtOH', 'UCY-2/BME', 'UCY-2/2hpH2', 'UCY-2/THF', 'UCY-2/Im-atzH', 'UCY-2/MeOH', 'UCY-2/atzH', 'UCY-2/merpdH2', 'UCY-2/Im', '|C2H7N|[Tb2(EBDC)(NO3)2(C3H7NO)4]', '|C2H7N|[Er2(EBDC)(NO3)2(C3H7NO)4]', '2,6-(AgC≡C)2-py·8AgCF3CO2·10H2O', 'AEMOF-4', '{[Pr(H2L)(C2O4)(H2O)]·3H2O}∞', '(UO2)4(O)2(H2O)2(C7H10O4)2(C10H8N2)·H2O', '[Cu2(L)2(SO4)(Br)2]·4H2O', '[Cd(L)2]', 'Co(meso-2,3-DMS)', 'Mn(NDC)(DEF)', 'C10H8Yb2N4O14S', '{[Zn2(μ6-ao2btc)\\xad(μ-1,5-bmeipe)]·2DMA}(n2)', '[Tb(FDA)(OX)0.5(H2O)2]·(H2O)', '[Dy(FDA)(OX)0.5(H2O)2]·(H2O)', '[Ni(dca)(bpa)2]dca·6H2O', 'Tb(BTC)(DMF)2·H2O', 'Tm(BTC)(DMF)2·H2O', 'C6H5F7O2Zn', 'Ho(bpdc)1.5(H2O)·0.5DMF', 'Er(bpdc)1.5(H2O)·0.5DMF', '[Tb(HIDC)(OX)0.5(H2O)2]·(Hn2O)(n2Tb)', 'BePO4−GIS', 'BePO4−GIS prepared from pyridine', 'SBMOF-2', 'Ca(tcpb)', '[Er(TDC)(ox)0.5(H2O)2]·(H2O)', 'Na(Hbte)(CH3OH)2', '[Co3(tib)2(BPT)2(H2O)2]·DMA·2.5H2O', '[Ni3(tib)2(BPT)2(H2O)2]·DMF·1.5H2O', 'ASNa 2:1 hemihydrate', 'sodium acetylsalicylate 2:1 hemihydrate', 'Ga(OH)(BDC)·0.85C5H5N', 'Na8(MoVI10O32EDTA)(H2O)35', '{[Zn(fum)(bmix)0.5]·0.5H2O}', 'Co-btca', '[Co3(OH)2btca2]·2 MeOH', 'Cu4(μ-CH3COO)8(2-bpmb)2', '[Co(μ-ox)(4-ampy)2]', '{[Zn(L)(L3)]·(H2O)5}(n4)', 'Mn3(L)(DMA)4·2DMA', '[Mn(H2O)2(dpe)]3[W(CN)8]2·2dpe·7H2O', 'Cu3(phen)3(muco)2(H2O)22·5H2O', '[Ca\\xad(H2O)3(HPXBP)]', '(4,4‘-(C5H4N)2(CH2)3)Zn2(HPO3)2·2.5H2O', 'C27H29N3O11Mn', '{[Nd(H2O)4(pdc)]4}[SiMo12O40]·2H2O', '{[Ce(H2O)4(pdc)]4}[GeMo12O40]·2H2O', '{[Nd(H2O)4(pdc)]4}[GeMo12O40]·2H2O', 'C12H10N4O10GdZn', 'C12H16N4O11.5TbZn', 'C12H15N4O12DyZn', '[{(ZnI2)3(tris\\xad(4-pyridyl)-1,3,5-triazine)2·x(benzonitrile)}]', 'Mn5O2(HNDT)2(NDT)2(DMF)8', '[Ba3(O3PCH2NH2CH2PO3)2(H2O)4]·3H2O', '(CN3H6)2·(VO2)3(PO4)(HPO4)', '{[CuEr2(C5HN2O4)2(C2O4)(H2O)6]3H2O}n', 'novel heterometallic 3d–4f coordination polymer', '[Zn3(btc)2(4,40-bipy)(H2O)2]n', '[Sr(C2H7O7P2)2].4H2O', 'Bis[trihydrogen 1-hydroxy-1,1-ethanediylbis(phosphinato)(1-)]strontium tetrahydrate', '[Ca(C5H2N2O4)(H2O)]', '[Mn3(C8H4O4)3(C3H7NO)2]', '[Zn(NCS)2(C8H12N6)]', '[ZnCl2(C12H10N4)]', '[{Ni(cyclam)(OCOC6H4COO)}nH2O]', '[U(C6H5NO2)(C2O4)O2]', '[Cu2(C2N3)4(H2O)]', '[Cd(NCS)2(C6H5N5)2]n', '{[Cd(C8H4O4)(C22H22N4O2)]2H2O}n', '[Gd2(C8H22N2O12P4)(C2O4)2(H2O)2]4H2O', '[Cd(H2O)2(C8H10O4)]', 'Na[S2CN(CH2CH2OH)CH2CH2CH3]$2H2O', '[Ag3(NO3)3(C28H24N6S4)]n', '[Ni(NCS)2(2ABN)2]n', 'Li2(C12H6O4)(H2O)2', '[Cu(bix)2(SO4)]·7.5H2O', '[Cd(ta)1/2(phen)Cl]n', 'Mg(imdc)(H2O)21.5', '[Zn(nicotinate)2]·naphthalene', '[Cu(Pyzca)2Cd2Cl4]n', '[Cd(L1)2(NCS)2]n', '[Cd2(C8H4O4)2(C18H16N2O2)]n', '[Cd4(bptc)2(bpy)(H2O)8]·5.5H2O', '[Zn(dcne)2(H2O)2]', '[Cu(dcne)2(H2O)]', '[(ZnI2)3(tpt)2x(solvent)]n', 'crystalline sponge 1', '[K2(C8H5Cl2O3)2(H2O)]n', 'catena-[bis(μ4-(3,5-dichlorophenoxy)acetato)-(μ4-aqua)-di-potassium]', '[Zn(bpeb)(dhbdc)]0.5perylene', '[Mn(bda)(phen)]n', '(C2H9N2)2[Zn3(HPO3)4]', '{[Cu2(bptc)(bpa)2(H2O)]$6.5H2O}n', '[Zn(dca)2(bpp)]∞', '[Sn(C3H7)2(H2O)(C2O4)]n', 'catena-[(μ-oxolato)-bis(propyl)-aqua-tin]', '{[Zn2(pypz)(tp)2]$H2O}n', '[UO2(PZDC)(H2O)2]', '[Rb2(C8H5Cl2O3)2(H2O)]', '[Cd(S2P(OiPr)2)2(NC5H4C5H4N)]', '[Cd(C10H8O4)(H2O)3]2H2O', '[C4N2H12][Zn2(H2O)(PO4)(HPO4)]2', '[Zn(C6H4(CO2)(S)-1,2)]', 'MIL-7', '(VO)2(OH)(H2O){O3P(CH2)3PO3}2(NH4)', '[Zn2(OH)L(4,4′-bipy)]n·2.5nH2O', '2 (Cu(OAc)2)2', 'tecton 2', '1-D coordination network', '[Ti(acac)O1.5]2[OSi(C6H5)2]3·3C4H8O2', '[Zn(abd)(DMF)2]n', 'catena-poly[[bis(dimethylformamide-O)zinc(II)]--4,40-(anthracene-9,10-diyl)-dibenzoato-2O:O0]', '{[Zn(4-pmntd)Cl2]$H2O}n', 'Zn(C4H3N2PO3)', 'Zn(TBDC1)1/2(TBDC2)1/2', '[Cu2(m-CN)2(L1)]', '[UO2(H2TETA)(H2O)]$6H2O', '[Gd(btc)(H2O)]$(H2O)5', '1–H2O$H2O', '{[Co2(Hbidc)2(bpt)2]$7H2O}n', '[Fe(TPOM2)(SCN)2]?2(CH3OH)', 'UCY-3/chloroform', '{[Co5O2(L)2(OBA)3]7DMF}n', 'Ca–BTC–DMA', 'p-sulfonatocalix[7]arene', '[Zn2(bpdc)2(bpe)]2DMF', 'RPM4-Zn', 'VO(C14H9COO)2', 'vanadium oxoanthracenecarboxylate', '[TmL(DMF)2]·0.25H2O', 'PIR-LiCl2H2O', 'PIR-LiBr2H2O', '{[WOS3Cu3Br(TIPA)](H2O)(DMF)}n', 'Cluster 2', '[Ln2(op)2(ox)(H2O)4]n', '[ZnLCl2]n', '[Cu2Br2(bztpy)]$MeCN', '[Pr(H2-DHBDC)1.5(H2O)2]n', '[Cu3(btmp)(H2O)3.6]$H2O', '1$H2O', 'ZnNi(CN)4$2CH3CN', '[Cd2(o-bdc)2(L)2]?6H2O', '[Fe2(HPO4)2(C2O4)(H2O)2]', '{[Cd2(tdpa)(bpg)(H2O)4]?3H2O}', 'C20H14N2O8Zn2', 'MOF 3', '[Cd3(ta)3Cl3]n', '[Ag(nfap)NO3]n', '[C2NH8]2[Co3(HPO3)4]', 'PbTMBD', '{Fe(pypz)2[Pt(CN)4]}n', 'Ce(NDC)1.5(DMF)(H2O)0.5·0.5DMF', 'Ce-FJU6', '[Ag2(5-iipa)(bbi)0.5]n', '[Ba2(H2O)(H2PMIDA)2]', '[NiIJnbpdc)IJ4,4′-bpy)]n', '[Cd(L–F)2]n', '{[Zn(pta)(1,3-bimb)0.5]$1.5H2O}n', '{(H3O)[CuI2(CN)(TTB)0.5]1.5H2O}n', '[Zn(muco)(bpee)]·4H2O', '3∞[FeCl2(pipz)]', '[Cu2(mttz)Cl]', '{[Cu4(OH)2(tci)2(bpy)2]·11H2O}', '[Cd(1,4-ndc)(bpa)0.5]n', 'TMU-8', 'ijCd2(oba)2(4-bpdb)2]n·(DMF)x', '[Mn1.5(cpbda)(DMP)(H2O)]n', '{[CdIJH2L)IJbpe)0.5IJH2O)2]·0.5IJbpe)}n', 'Ag4(tpt)4{δ-[Mo8O26]}·1.5H2O', 'Ag4(tpt)4{δ-[Mo8O26]}', 'ij(UO2)IJhip)]2Ĵ17H2O', '[Cd2(PA)(datrz)2(DMF)2]n', '{[Fe(μ-atrz)(NCS)2(H2O)2]n}', '[Ba2(H2dcppa)2(μ2-H2O)(H2O)(DMF)]·(H2O)', 'Tb(FBPT)(H2O)(DMF)', '[Ag6(tpt)4(SiW12O40)Cl2]·2H2O', '{[Cd2(bpt)(btc)(H2O)]·(DMA)2}n', '[Ni2(m-H2O)(pyip)2(H2O)2]', '[Cu(Npy3)Cl2]·DMF', 'novel CuII framework', 'framework', 'Cu2L(NO3)2(DMF)0.4', '{[Er2Zn2(μ3-Hmimda)2(μ3-mimda)2·4H2O]n·2nH2O}', '{[Yb2Zn2(μ3-Hmimda)2(μ3-mimda)2·4H2O]n·3nH2O}', '{[Tb2Co2(μ3-Hmimda)2(μ3-mimda)2·4H2O]n·2nH2O}', '{[Dy2Co2(μ3-Hmimda)2(μ3-mimda)2·4H2O]n·nH2O}', '{[Cd(CF3-bdc)(bpy)1.5]?1.5H2O}n', '(NH4)5[MnII2CrIII3(ox)9]10H2O', 'poly-[AgL2]CF3SO3', '[Sm(H2L)(C2O4)(H2O)]·2H2O', '[Dy(BPDC)(DMF)2(NO3)]', '[Gd(BPDC)(DMF)2(NO3)]', '[Ag3(DpzS)2(CF3SO3)3]∞', '{[Zn2(CCTA)(H2O)3]·(NMP)2·(H2O)3}n', '[Yb2(BDC)3(DMF)2]·H2O', '[Co4(m3-OH)2(m2-Cl)2(m5-L)2(m2-L)2]n$7nH2O', '[(pn)Cd(CN)2Ni]0.5C12CHCHC12', '[{Ru2(O2CPh-m-F)4}2(BTDA-TCNQ)]', '[CdIJBCbpe)Cl2]·5H2O', '[Ln2CuIJ2,3-pydc)2IJsuc)2IJH2O)2 [Ln = Er (7), Yb (8), and Lu (9)]', '{[Cd(pzdc)(azpy)]·2H2O}n', 'Zn(NDC)(DMBPY)0.5·(DMF)2', '[{(ZnI2)3(2)2·1.3 (1 a)·1.0 (tBuOH)}n]', '{[Zn(L)0.5(sdb)]·H2O}n', '[MnIJH2L)]n', 'TCZ-002', '[Cd2IJH2O)2L]·5H2O·0.5DMF', '[Cu(terpy)(tda)]', '[HgIJMPytat)2]n', '[HgIJEPytat)2]n', '[Fe(4-abpt){Ag(CN)2}2]·2DMF·EtOH', '1·2DMF·EtOH', '534-MOF-Tb', '3∞[PrCl3(bpe)2]·thz', 'PCN-200-syn', 'PCN-200', 'PCN-200-ac', '[Ln(fum)1.5(H2O)2]·0.5(bdc)·H2O (Ln = Sm (1), Tb (2))', '[Zn2(Hmpba)2(mpba)]', 'MCF-54', '{[Cu4(m3-OH)2(mtrb)2(1,4-bda)2]Br26H2O}', '[Er2(BBTC)1.5(DMF)4]$2DMF$4H2O', 'Poly-[Cd2IJAlaNDI)2IJbipy)IJsolv)4]', '[Cu2(Glu)2(μ-bpy)]·x(H2O)', 'Zn3(H3IBT)2(H2O)2', '[Ag2(bimb)2(BW12O40)][H3bimb]·2H2O', '[Mg2(BDC)2(BPNO)]$2MeCN', '[Zn2(2,6-PDC)2]', '[Cu(Htcmel)].3H2O', 'Cu derivative', 'BIF-41', '[CoB(im)4(ad)0.5]3.5H2O', 'Yb-BDC', '{[Cd3(BDC)3(OPP)(DMF)2]2DMA}n', 'TMU-33', '[Cd(L3)2]n', '[Cu6I2(μ4-I)2(μ4-5-phpymt)2]n', '[CuII(BBTZ)]3[AsWV3WVI9O40]·10H2O', '[CO3Cu20(suc)4(m3-OH)24(H2O)10·(SO4)3·14H2O]n', 'Strontium Bis{4-(Ethoxycarbonyl)-3,6-dioxo-2,5-diazabicyclo[2.2.2]-octane-1-carboxylate} tetrahydrate', 'Mn(C4H4O4)', '{[TbL1.5(H2O)]·0.5H2O}n', 'catena-(µ2-2,5-dimethylpyrazine-N,N)-dibromidozinc(II)', 'catena-(µ2-2,5-dimethylpyrazine-N,N)-diiodidozinc(II)', '[Cd2(p-brba)4(bpy)2]⋅(C2H5OH)', 'C4H8BaN12O5', '[HoL(H2O)2]·DMF·H2O', 'Ln-MOF 3', '[Cu(Hoxonic)(bpy)0.5]n·1.5nH2O', '2-H2O', '[Cu(Hoxonic)(bpy)0.5]n', '{[Mn3(btc)2(2,2--bipy)2(H2O)6]·4H2O}n', '[{Mn(oda)(H2O)}·H2O]n', '[Cd(L)2(H2O)(CH3OH)]n', '[Rh2(OAc)2(trop)2]', '[Bi(1,4-bdc)2]·(dma)(dmf)', '{[Cu6(CN)6(dmtrz)]2[Cu2(CN)2(dmtrz)2]}n', '[Cu2(CN)(5-phtta)]n', '{[Co(L)2(SCN)2]·(DMF)2}', 'CPO-26-Mg', '[Mg(H2dhtp)(H2O)2]', 'MOF-1a', '[Cd3(L)2(BDC)3]2·16DMF', '[(MimCO2)2]2Zn', '[Fe(btr)2(NCS)2]·H2O', '[Co2(tipm)(1,3-BDC)2]·0.5CH3CN', '2·0.5CH3CN', '[Zn(2–2x)Co2x(tipm)(1,3-BDC)2]·bH2O', '2a·H2O', '[Yb(pza)(OH)(H2O)]n', '[Er(pza)(OH)(H2O)]n', '[Ag(H2EIDC)]n', '{[K2Zn(bta)2(H2O)4]}n', '[Ag(L2)0.5(ndc)0.5]n', '[Cd2(bpt)(btz)(DMF)]n', '[Cd2Sr(bdc)3(H2O)2]n', '[Cd(phen)(NDA)]n', '[Zn3(AmTAZ)2(mal)2]n', '[Pr(L)(phen)2]n', '[Cd(NH2NH2)(AFT)2·0.7H2O]n', '{[Ce(L1)(H2O)(DMF)]·DMF·H2O}n', '[MnL1(biim-6)]·H2O', '[Co(HL2)2·(4,4′-bipy)]', '{[Dy(phen)(NDA)1.5]·0.5H2NDA}n', '{[Cd2(bptc4−)(ox2−)0.5(H2O)2]·4.5H2O}n', '[Cu3(atzc)2(atz)(ox)]·1.5H2O', 'Ga3(HPO3)4F4(H3DETA)', '[Ag5(pz)7(BW12O40)]', '[Ag2(HCA)]n', 'Polymer 1', '{[Co2(TPA)(μ3-O)3]·0.5DMA}n', '[Yb2(C4H4O4)3(H2O)2]n⋅H2O', '[Zn(TPB)(FMA)·(2H2O)]', '{[Zn2(L)2(BIBP)]·2DEF}n', '{[Cd(L)(H2O)(NO3)]⋅2H2O}n', 'polymer 2', '[CdL 2(NO3)2]·(C6H6)', 'polymer 3', '[CdL 2(NO3)2]·2(C4H8O)', '[Fe{N(SiMe3)2}2(4,4′-bipy)]∞', '[Ag(I-hip)]·1.25H2O', 'Ca(terpy)[Pt(CN)4]', 'Ba(terpy)[Pt(CN)4]', '[Dy(Hcit)(H2O)]n', '[Er(Hcit)(H2O)]n', 'Zn(phen)L·H2L', '[Co2(C6H6O4)2(H2O)3]', '[Zn3(5-pmipe)2]·0.5H2O', '[Na(MH)(H2O)2]n·H2O', 'catena-poly[di-μ-aqua-(μ-maleic hydrazidato-O)sodium] hydrate', '{[Zn(HTPO)(bib)]·4H2O}n', '[[Zn(2-MeBIM)(Pht)(H2O)]·2H2O]n', '[ZnBr2(μ-4,4′-bipy)]n', '[La2(H2pda)(SO4)3(H2O)4]n', '[Pr2(H2pda)(SO4)3(H2O)4]n', '[Nd2(H2pda)(SO4)3(H2O)4]n', '[Sm2(H2pda)(SO4)3(H2O)4]n', '(trans-1,4-dach)0.5Co3(H2O)(OH)(PO4)(HPO4)·(3+x)H2O', '{[Cd(btmb)(CH3COO)2(H2O)]·CH3CN}n', 'Co2(tdc)2(H2O)3', '{[Cd1.5(btrp)(SIP)(H2O)2]·2H2O}n', '(C6N4H22)1/2[In3(HPO4)6]·H3O', '[Cd(H2L)(H2O)3]·2(H2O)', '[{Nd4(ip)7(H2O)2}{Cu(2,2′-bpy)2}2]n', '[{Sm4(ip)7(H2O)2}{Cu(2,2′-bpy)2}2]n', '[{Eu4(ip)7(H2O)2}{Cu(2,2′-bpy)2}2]n', '[Zn3(L)2(μ2-OH)2]n', '[Zn(HL)(SCN)]n', '[Cd(CS2C7H5O2CH2NCH2C6H5)2]∞', '[Cu(HL)]n·nH2O', '[Mn(MPDH)2]', '[Cd3(μ3-hmt)2(μ2-C4H2O4)2(H2O)6]SO4·4H2O', 'ErCHA(H2O)2·2.5H2O', '[Cd(dca)2(Mim)2]n', '[Ni(H2O)2(bimb)(SUC)]', '[Dy(Hsfpip)(ox)0.5(H2O)]n·2n(H2O)', '[Zn2(bbmb)2(tdc)2]·2H2O', '[C8N5H28][Zn5(PO4)5].H2O', '[Ag(L4)(NO3)]n', '[Cd2(L2)(NCS)4]n', '[Co(NH3)6]2[Cd8(C2O4)11(H2O)4]·8H2O', 'HNU-1', '{[Ca6(TCMBT)4(H2O)14]·(H2O)3}n', 'S1•cis-asarone', 'C48H40I6N12O3Zn3', 'S1•trans-asarone', 'S2•thymol', 'C101H86Br12N24O3Zn6', '[Cd2(H2L)2(H2O)]n', '[Mn(H2L)(H2O)2]n', 'Na,Ce-I-3', 'K,Ce-I-2', '{[Zn(pyim2)(OBA)]·(H2O)}n', '[Cu(tdc)(dpa)]n', 'UO2(OH)(PYCA)', '{[Zn(μ3-pzdc)(μ-dpeten)0.5]∙3H2O}n', 'Mo2(O2CCF3)4(cis-dbe)', 'Rh2(O2CCF3)4(closed-dbe)', '[{Cu2(4,4′-bpy)3(H2O)2}V4O12]·5H2O', '3·5H2O', '[Cu2(emg)2(bpy)]n', '[Cu2(cda)2(bpy)]n', '[Cd2(C8H4O6S)2(4,4′-bipy)2]', '[Hg2(mtz)4]n', '(H3dien)2{[Mn(H3O)2][Mn3Mo12O24(OH)6(HPO4)2(PO4)6]}·5H2O', 'Ga2(PO4)2(C2O4)0.5', '[Ga(phen)(H1.5PO4)2]·H2O', '[Cu(bpy)(1,3-HO3PC8H8PO3H)]', 'In3(HPO4)6(H3O)(H2O)2', '[Co2L2(bdtc)(H2O)]n', '[C3N2H5]⋅[Zn1.5(HPO3)2]', '[MnCl(pyz)(H2O)]n', 'Rh2(O2CCH3)4', '[Cd(L)2(H2O)2]∞', '[AgI(DTBA)(Mo2O6)]', '[Cd(Dpq)(2,6-NDC)]', 'Sn2(O)(pydc)', 'catena-[Cd(bipy-O2)(μ1,3-NCS)2]', '[Cu(pn)(dca)2]n', '[Cu2(bpyrm)(VO2)2(AsO4)2]·H2O', '[Dy\\xad(HL)\\xad(H2O)2]·1.5H2O', 'C60H30O20N6NaU2', '[Li2Zn2(NH2-bdc)3(bpy)]·DMF·CH3CN·3H2O', '2-NH2', '[Cu2(obb)2(bpy)0.5(DMF)]·2DMF', 'Pr(HL)(H2L)(H2O)', '{NdAg(C14H12N2O13)}', 'C36H22N4O10PbU', 'Cu2I2L2', 'Ag(H2L5)0.5', 'Ag2(HL2)', 'Ag2(HL3)', 'β-ZnHPO3·N4C2H4', 'β-polymorph', '[CuCl2(4bpytm)]·2dmf', '4.dmf', '[CuCl2(4bpytm)]·2dmso', '4.dmso', 'MIL-53(Fe)[o-xylene]', 'MIL-53(Fe) o-xylene clathrate', 'MIL-53(Fe)[m-xylene]', 'MIL-53(Fe) m-xylene clathrate', '[Zn(L)(1,4-BDC)]', '{Cu(azpy)(glut)2}', '{[Cu(azpy)(glut)]}', '[(Zn(μ-L1)Cl2)·2MeOH]', '[Mn(μ-3-ClPhCOO)2(bpy)]·nnH2O', 'C6H2Cl2KO5', 'potassium chloranilate monohydrate', '[Zn3Na2(BTC)2(HCOO)2(H2O)8]', '[Zn3Na2(BTC)2(HCOO)2(H2O)2]', '[CuNi1−Cox(Nx3)2(isonic)2]∞', '[Cu(3,4-PDC)(DMF)]n', '[(CH3)2NH2]2[Zn(L)]·2H2O', 'UCLA-R3', '{Co(p-bdc)(bix)2}(n2)', '{Zn(p-bdc)(bix)2}(n1)', 'Ln(H2O)4[Ru2(hedp)2(H2O)2]·8H2O', 'Zn2(BPnDC)2(bpy)', 'SNU-9_activated', 'CO2@SNU-9', '[Ag5(L3)]·1.5H2O', '{[Mn3(TCOPM)2(H2O)2]}(n2)', '[Er(C9H9O6)(H2O)2]·2.5H2O', 'lanthanide−CTC coordination polymer', '3-D open-framework metal−carboxylate network', 'Lu(HPMIDA)(H2O)2·H2O', 'MOF-604', 'Cu2(3-MeBPDC)2·(DMF)2', 'COV-10CdS-RuPAL', 'COV-10', '{Eu3(bcbp)3(NO3)7(OH)2}', '[Mn(HL)(bipy)(μ2-bipy)0.5(H2O)]·4nnH2O', 'Mn2(H2O)[O2C(CH2)4CO2]2', 'Zn4(BOABA)2(4,4′-bipy)2(OH)2·H2O·0.5CH3CH2OH', '(UO2)\\xadZn\\xad(μ4-bpdc)\\xad(μ3-bpdc)', '1′-Zn', '(UO2)\\xadCu\\xad(μ4-bpdc)\\xad(μ3-bpdc)', 'EDP-U4', 'ZnPO3-2', 'ZnPO3-3']}\n"
     ]
    }
   ],
   "source": [
    "import json\n",
    "\n",
    "summaries = []\n",
    "with open(\"community_summaries_cleaned.jsonl\", \"r\") as f:\n",
    "    for line in f:\n",
    "        summaries.append(json.loads(line))\n",
    "\n",
    "print(f\"Loaded {len(summaries)} summaries\")\n",
    "print(summaries[0])  # peek at the first entry\n"
   ]
  },
  {
   "cell_type": "code",
   "execution_count": 5,
   "id": "00c8b8f7",
   "metadata": {},
   "outputs": [
    {
     "name": "stdout",
     "output_type": "stream",
     "text": [
      "Total docs: 1437\n",
      "Avg tokens: 5226.5\n",
      "Max tokens: 24053\n"
     ]
    },
    {
     "data": {
      "image/png": "[encoded data removed]",
      "text/plain": [
       "<Figure size 640x480 with 1 Axes>"
      ]
     },
     "metadata": {},
     "output_type": "display_data"
    }
   ],
   "source": [
    "import tiktoken\n",
    "import matplotlib.pyplot as plt\n",
    "\n",
    "# choose tokenizer for your embedding model\n",
    "enc = tiktoken.encoding_for_model(\"text-embedding-3-small\")\n",
    "\n",
    "token_counts = []\n",
    "for s in summaries:\n",
    "    text = f\"\"\"\n",
    "MOF Names: {', '.join(s.get('mof_names', []))}\n",
    "Summary: {s['summary']}\n",
    "\"\"\".strip()\n",
    "    n_tokens = len(enc.encode(text))\n",
    "    token_counts.append(n_tokens)\n",
    "\n",
    "# quick stats\n",
    "print(f\"Total docs: {len(token_counts)}\")\n",
    "print(f\"Avg tokens: {sum(token_counts)/len(token_counts):.1f}\")\n",
    "print(f\"Max tokens: {max(token_counts)}\")\n",
    "\n",
    "# Plot histogram\n",
    "plt.hist(token_counts, bins=50, edgecolor=\"black\")\n",
    "plt.xlabel(\"Token count per doc\")\n",
    "plt.ylabel(\"Number of docs\")\n",
    "plt.title(\"Distribution of token counts across summaries\")\n",
    "plt.show()\n"
   ]
  },
  {
   "cell_type": "markdown",
   "id": "ae102eea",
   "metadata": {},
   "source": [
    "We wanted to include MOF names in the embedding to help with specific retrieval, but they are putting us over the token limit in vector indices when there are several MOFs in a community. Luckily, these are the communities where name-specific vector search is less important, so, we'll take names out of the vectore store for communities with more than 10 MOFs"
   ]
  },
  {
   "cell_type": "code",
   "execution_count": null,
   "id": "e15e5fa3",
   "metadata": {},
   "outputs": [
    {
     "name": "stderr",
     "output_type": "stream",
     "text": [
      "/var/folders/_l/c6v61_8n51j1d1jwmssq4ndw0000gn/T/ipykernel_45751/2788258517.py:42: LangChainDeprecationWarning: Since Chroma 0.4.x the manual persistence method is no longer supported as docs are automatically persisted.\n",
      "  vectorstore.persist()\n"
     ]
    }
   ],
   "source": [
    "from langchain_community.vectorstores import Chroma\n",
    "from langchain_openai import OpenAIEmbeddings\n",
    "from langchain.docstore.document import Document\n",
    "\n",
    "# --- Build documents with MOF name cutoff ---\n",
    "docs = []\n",
    "for s in summaries:\n",
    "    all_mofs = s.get(\"mofs\", [])\n",
    "    n_mofs = len(all_mofs)\n",
    "\n",
    "    if n_mofs <= 10:\n",
    "        mof_text = f\"MOFs: {', '.join(all_mofs)}\"\n",
    "    else:\n",
    "        mof_text = \"MOFs: [list omitted due to large community size]\"\n",
    "\n",
    "    text = f\"\"\"\n",
    "Community ID: {s['communityId']}\n",
    "{mof_text}\n",
    "Summary: {s['summary']}\n",
    "\"\"\".strip()\n",
    "\n",
    "    docs.append(Document(\n",
    "        page_content=text,\n",
    "        metadata={\n",
    "            \"communityId\": s[\"communityId\"],\n",
    "        }\n",
    "    ))\n",
    "\n",
    "# --- Embeddings ---\n",
    "embeddings = OpenAIEmbeddings(model=\"text-embedding-3-small\")\n",
    "\n",
    "# --- Chroma persistent vector store ---\n",
    "persist_dir = \"./chroma_db_mof_summaries\"\n",
    "\n",
    "vectorstore = Chroma.from_documents(\n",
    "    documents=docs,\n",
    "    embedding=embeddings,\n",
    "    persist_directory=persist_dir  # saves the DB so you can reload later\n",
    ")\n",
    "\n",
    "# --- Save the index ---\n",
    "vectorstore.persist()"
   ]
  },
  {
   "cell_type": "code",
   "execution_count": 21,
   "id": "de411a78",
   "metadata": {},
   "outputs": [],
   "source": [
    "# --- Create retriever ---\n",
    "summary_retriever = vectorstore.as_retriever(\n",
    "    search_type=\"similarity\",\n",
    "    search_kwargs={\"k\": 5}\n",
    ")\n"
   ]
  },
  {
   "cell_type": "code",
   "execution_count": null,
   "id": "145c455a",
   "metadata": {},
   "outputs": [],
   "source": [
    "'''vectorstore = Chroma(\n",
    "    embedding_function=embeddings,\n",
    "    persist_directory=persist_dir\n",
    ")\n",
    "summary_retriever = vectorstore.as_retriever(search_type=\"similarity\", search_kwargs={\"k\": 3})'''\n"
   ]
  },
  {
   "cell_type": "markdown",
   "id": "da8bfe15",
   "metadata": {},
   "source": [
    "Lets demo a retrieval!"
   ]
  },
  {
   "cell_type": "code",
   "execution_count": 16,
   "id": "20f51028",
   "metadata": {},
   "outputs": [],
   "source": [
    "from langchain.prompts import ChatPromptTemplate\n",
    "from langchain.chains import RetrievalQA\n",
    "from langchain_openai import ChatOpenAI\n",
    "\n",
    "rag_prompt = ChatPromptTemplate.from_messages([\n",
    "    (\"system\", \n",
    "     \"You are an expert chemist specializing in Metal–Organic Frameworks (MOFs). \"\n",
    "     \"You have access to curated community summaries that group MOFs by shared properties, \"\n",
    "     \"applications, and structural features. \"\n",
    "     \"Your task is to use these summaries as context to infer scientific insights and answer the user’s question.\\n\\n\"\n",
    "     \"Guidelines:\\n\"\n",
    "     \"- Identify and explain patterns (e.g., why certain MOFs are clustered together).\\n\"\n",
    "     \"- Make inferences about application–property–structure relationships.\\n\"\n",
    "     \"- Be concise, factual, and use technical terminology appropriate for a materials scientist.\\n\"\n",
    "     \"- If the context does not fully answer the question, say so explicitly and suggest what is known.\\n\"\n",
    "     \"- Always ground your reasoning in the retrieved community summaries.\\n\"\n",
    "    ),\n",
    "    (\"user\", \"Question: {question}\\n\\nContext:\\n{context}\")\n",
    "])\n",
    "\n",
    "qa_chain = RetrievalQA.from_chain_type(\n",
    "    llm=ChatOpenAI(model=\"gpt-4o-mini\", temperature=0.2),\n",
    "    retriever=summary_retriever,\n",
    "    return_source_documents=True,\n",
    "    chain_type=\"stuff\",\n",
    "    chain_type_kwargs={\n",
    "        \"prompt\": rag_prompt,\n",
    "        \"document_variable_name\": \"context\"\n",
    "    }\n",
    ")\n"
   ]
  },
  {
   "cell_type": "code",
   "execution_count": 23,
   "id": "4f769dca",
   "metadata": {},
   "outputs": [
    {
     "name": "stdout",
     "output_type": "stream",
     "text": [
      "Answer:\n",
      " The MOFs identified in the provided summaries are particularly well-suited for CO₂ capture due to several shared properties and structural features. \n",
      "\n",
      "1. **High Selectivity for CO₂**: All three communities emphasize the high selectivity of these MOFs for CO₂ uptake, which is crucial for effective separation from gas mixtures. This selectivity is often a result of the specific interactions between the metal nodes (like Cr and Mo) and the organic linkers, which enhance the framework's affinity for CO₂ over other gases such as N₂.\n",
      "\n",
      "2. **Structural Characteristics**: A common structural motif among these MOFs is the uninodal 6-connected topology, often utilizing \"mmo\" nets and MO4^2– pillars. This structural uniformity contributes to the stability and robustness of the frameworks, which is essential for maintaining performance during gas adsorption processes.\n",
      "\n",
      "3. **High Surface Area and Tailored Pore Sizes**: The MOFs in these communities are characterized by high surface areas and tailored pore sizes, which are critical for maximizing gas adsorption efficiency. The ability to optimize pore dimensions allows for better accommodation of CO₂ molecules, enhancing the overall capture capacity.\n",
      "\n",
      "4. **Favorable Isosteric Heats of Adsorption**: The favorable isosteric heats of adsorption (Qst) reported indicate strong interactions between the MOFs and CO₂. This property is vital for ensuring that CO₂ can be effectively captured and subsequently released when needed, making these materials suitable for practical applications in carbon capture technologies.\n",
      "\n",
      "5. **Flexibility and Breathing Structures**: Some MOFs exhibit flexible, breathing structures that can adapt their pore sizes in response to different gas pressures or compositions. This adaptability can further optimize gas adsorption under varying conditions, enhancing the performance of these materials in real-world applications.\n",
      "\n",
      "In summary, the MOFs from these communities are clustered together due to their shared focus on CO₂ capture, characterized by high selectivity, structural stability, optimized pore characteristics, and favorable adsorption properties. These features collectively position them as promising candidates for addressing climate change through effective carbon capture technologies.\n",
      "\n",
      "--- Sources ---\n",
      "Community: 24770\n",
      "Snippet: Community ID: 24770\n",
      "MOFs: [list omitted due to large community size]\n",
      "Summary: The MOF community ID 24770 is unified by its focus on carbon capture applications, specifically targeting CO2 separation from gas mixtures. The recurring properties among these MOFs include high selectivity for CO2 uptake  ...\n",
      "\n",
      "Community: 32251\n",
      "Snippet: Community ID: 32251\n",
      "MOFs: [list omitted due to large community size]\n",
      "Summary: The MOF community ID 32251 is primarily focused on carbon capture applications, highlighting their potential for selective CO2 uptake. The recurring properties among these MOFs suggest they possess high surface areas and t ...\n",
      "\n",
      "Community: 559\n",
      "Snippet: Community ID: 559\n",
      "MOFs: [list omitted due to large community size]\n",
      "Summary: Community ID: 559 consists of MOFs primarily focused on carbon capture applications. A notable feature is their highly selective CO2 uptake, which is facilitated by specific structural characteristics, such as uninodal 6-con ...\n",
      "\n"
     ]
    }
   ],
   "source": [
    "query = \"Which MOFs are good for CO₂ capture?\"\n",
    "result = qa_chain.invoke({\"query\": query})\n",
    "\n",
    "print(\"Answer:\\n\", result[\"result\"])\n",
    "print(\"\\n--- Sources ---\")\n",
    "for doc in result[\"source_documents\"]:\n",
    "    print(\"Community:\", doc.metadata[\"communityId\"])\n",
    "    print(\"Snippet:\", doc.page_content[:300], \"...\\n\")\n"
   ]
  },
  {
   "cell_type": "code",
   "execution_count": 27,
   "id": "a3feb8b1",
   "metadata": {},
   "outputs": [
    {
     "name": "stdout",
     "output_type": "stream",
     "text": [
      "Answer:\n",
      " Water stability in Metal–Organic Frameworks (MOFs) is influenced by several structural and compositional factors that enhance their resilience in humid or aqueous environments. Based on the community summaries provided, we can infer the following key aspects that contribute to the water stability of MOFs:\n",
      "\n",
      "1. **Metal Nodes**: The choice of metal nodes plays a significant role in determining the stability of MOFs in water. For instance, metals like magnesium (Mg) and aluminum (Al), which are mentioned in the context of community ID 16580, tend to form more stable coordination bonds with organic linkers, enhancing the overall structural integrity of the framework in the presence of moisture.\n",
      "\n",
      "2. **Organic Linkers**: The type of organic linkers used can also affect water stability. Linkers that are more hydrophobic or have functional groups that can withstand hydrolysis are preferable. The use of pyridinedicarboxylic acid in community ID 16580 suggests that such linkers may contribute to moisture stability by providing a robust framework that resists degradation.\n",
      "\n",
      "3. **Framework Topology**: The structural topology of the MOF, including its pore size and connectivity, can influence how water interacts with the framework. MOFs that maintain their structural integrity across various solvent environments, as noted in community ID 1669, likely possess a robust topology that can accommodate water without collapsing.\n",
      "\n",
      "4. **Synthesis Conditions**: The synthesis methods employed can also impact the water stability of MOFs. Controlled temperature and specific solvent choices during synthesis, as highlighted in community ID 16580, may lead to the formation of more stable frameworks that are less susceptible to hydrolysis.\n",
      "\n",
      "5. **Thermal Stability Correlation**: There is often a correlation between thermal stability and water stability. MOFs with high thermal stability, such as those in community IDs 16580 and 18083, tend to exhibit better performance in humid conditions. This is likely due to the inherent strength of the metal-organic bonds that also withstand moisture.\n",
      "\n",
      "In summary, water stability in MOFs is a multifaceted property influenced by the choice of metal nodes, organic linkers, framework topology, synthesis conditions, and the relationship between thermal and moisture stability. While the summaries provide insights into these factors, specific experimental data on the water stability of individual MOFs would be necessary for a comprehensive understanding.\n",
      "\n",
      "--- Sources ---\n",
      "Community: 16580\n",
      "Snippet: Community ID: 16580\n",
      "MOFs: NUDLIJ, KIYZID03, ECIYEU\n",
      "Summary: The MOF community ID 16580 is characterized by its focus on thermally stable materials, with a notable thermal stability threshold of 500 °C. This high stability is crucial for applications in gas storage and catalysis, where thermal resili ...\n",
      "\n",
      "Community: 18083\n",
      "Snippet: Community ID: 18083\n",
      "MOFs: SIWHOY, PURTUS\n",
      "Summary: The MOF community ID 18083, represented by SIWHOY and PURTUS, shares a notable focus on **thermal stability**, with both exhibiting decomposition temperatures around **550 °C**. This high thermal stability suggests these MOFs may be suitable for appl ...\n",
      "\n",
      "Community: 1669\n",
      "Snippet: Community ID: 1669\n",
      "MOFs: QONKUB, QONLAI, QONLEM, QONLIQ, QOMSAO, BAXFIR01, BAXGAK, LORGEE, HERNEA01, YAYPOF\n",
      "Summary: The MOF community ID 1669 appears to be centered around materials that exhibit robust stability and retain their structural integrity across various solvent environments, as evidenced ...\n",
      "\n"
     ]
    }
   ],
   "source": [
    "query = \"What makes a MOF water stable?\"\n",
    "result = qa_chain.invoke({\"query\": query})\n",
    "\n",
    "print(\"Answer:\\n\", result[\"result\"])\n",
    "print(\"\\n--- Sources ---\")\n",
    "for doc in result[\"source_documents\"]:\n",
    "    print(\"Community:\", doc.metadata[\"communityId\"])\n",
    "    print(\"Snippet:\", doc.page_content[:300], \"...\\n\")\n"
   ]
  },
  {
   "cell_type": "code",
   "execution_count": 26,
   "id": "ab0f6ca4",
   "metadata": {},
   "outputs": [
    {
     "name": "stdout",
     "output_type": "stream",
     "text": [
      "Answer:\n",
      " Based on the summaries from the three community IDs focused on MOFs for CO₂ capture, several patterns and insights can be drawn regarding their properties, structures, and applications:\n",
      "\n",
      "1. **Common Structural Features**: \n",
      "   - Many of the MOFs in these communities utilize uninodal 6-connected topologies, often referred to as \"mmo\" nets, which are characterized by their robust frameworks. The use of metal nodes such as chromium (Cr) and molybdenum (Mo) is prevalent, contributing to the structural integrity and stability of the MOFs during gas adsorption processes.\n",
      "\n",
      "2. **High Selectivity and Adsorption Properties**: \n",
      "   - The MOFs exhibit high selectivity for CO₂, which is crucial for effective separation from gas mixtures. This selectivity is often linked to their high surface areas and tailored pore sizes, allowing for efficient gas adsorption. The favorable isosteric heats of adsorption (Qst) indicate strong interactions with CO₂, enhancing their performance in carbon capture applications.\n",
      "\n",
      "3. **Adaptability and Flexibility**: \n",
      "   - Some MOFs are noted for their flexible, breathing structures, which allow for changes in pore size in response to varying gas pressures or compositions. This adaptability can optimize gas interactions and improve the efficiency of CO₂ capture under different operational conditions.\n",
      "\n",
      "4. **Interconnected Properties**: \n",
      "   - The design of these MOFs appears to leverage the interplay between metal nodes and organic linkers, which enhances both the stability and the gas adsorption characteristics. The emphasis on reversible gas adsorption isotherms suggests that these materials are engineered for practical applications, allowing for the efficient capture and release of CO₂.\n",
      "\n",
      "In summary, the MOFs identified in these communities are well-suited for CO₂ capture due to their structural robustness, high selectivity, favorable adsorption characteristics, and adaptability. They represent a focused effort in materials science to develop effective solutions for climate change mitigation through advanced gas separation technologies.\n",
      "\n",
      "--- Sources ---\n",
      "Community: 24770\n",
      "Snippet: Community ID: 24770\n",
      "MOFs: [list omitted due to large community size]\n",
      "Summary: The MOF community ID 24770 is unified by its focus on carbon capture applications, specifically targeting CO2 separation from gas mixtures. The recurring properties among these MOFs include high selectivity for CO2 uptake  ...\n",
      "\n",
      "Community: 32251\n",
      "Snippet: Community ID: 32251\n",
      "MOFs: [list omitted due to large community size]\n",
      "Summary: The MOF community ID 32251 is primarily focused on carbon capture applications, highlighting their potential for selective CO2 uptake. The recurring properties among these MOFs suggest they possess high surface areas and t ...\n",
      "\n",
      "Community: 559\n",
      "Snippet: Community ID: 559\n",
      "MOFs: [list omitted due to large community size]\n",
      "Summary: Community ID: 559 consists of MOFs primarily focused on carbon capture applications. A notable feature is their highly selective CO2 uptake, which is facilitated by specific structural characteristics, such as uninodal 6-con ...\n",
      "\n"
     ]
    }
   ],
   "source": [
    "query = \"Which MOFs are good for CO₂ capture?\"\n",
    "result = qa_chain.invoke({\"query\": query})\n",
    "\n",
    "print(\"Answer:\\n\", result[\"result\"])\n",
    "print(\"\\n--- Sources ---\")\n",
    "for doc in result[\"source_documents\"]:\n",
    "    print(\"Community:\", doc.metadata[\"communityId\"])\n",
    "    print(\"Snippet:\", doc.page_content[:300], \"...\\n\")\n"
   ]
  },
  {
   "cell_type": "code",
   "execution_count": 25,
   "id": "0704fe80",
   "metadata": {},
   "outputs": [
    {
     "name": "stdout",
     "output_type": "stream",
     "text": [
      "Answer:\n",
      " To synthesize Mg-MOF-74 with enhanced selectivity for CO2 in flue gas, consider the following strategies based on insights from the community summaries:\n",
      "\n",
      "1. **Metal Node Selection**: While Mg is already a favorable choice due to its lightweight and cost-effective nature, exploring the incorporation of other metal nodes (e.g., Cr or Mo) in the synthesis could enhance the framework's stability and selectivity for CO2. These metals have been shown to improve the robustness of MOFs and their gas adsorption capabilities.\n",
      "\n",
      "2. **Organic Linker Modification**: Tailoring the organic linkers used in Mg-MOF-74 can significantly influence the pore size and surface area, both of which are critical for selective gas adsorption. Using linkers that promote a more flexible framework could enhance the \"breathing\" effect, allowing for better accommodation of CO2 molecules compared to other gases like N2.\n",
      "\n",
      "3. **Pore Size Optimization**: The community summaries emphasize the importance of tailored pore sizes for efficient gas adsorption. By adjusting the synthesis conditions (e.g., temperature, solvent, and concentration of reactants), you can fine-tune the pore dimensions of Mg-MOF-74 to optimize its selectivity for CO2.\n",
      "\n",
      "4. **Framework Stability**: Ensuring that the synthesized Mg-MOF-74 maintains structural integrity during gas adsorption is crucial. This can be achieved by optimizing the synthesis conditions to enhance the connectivity of the uninodal 6-connected topology, which has been shown to contribute to the stability and performance of MOFs in gas separation applications.\n",
      "\n",
      "5. **Post-Synthetic Modifications**: Consider applying post-synthetic modifications to Mg-MOF-74, such as functionalizing the framework with amine groups or other CO2-philic sites. This can enhance the interaction between the MOF and CO2, thereby increasing selectivity.\n",
      "\n",
      "6. **Testing and Characterization**: After synthesis, conduct thorough characterization (e.g., BET surface area analysis, gas adsorption isotherms) to evaluate the performance of the modified Mg-MOF-74. Focus on measuring isosteric heats of adsorption to confirm the enhanced selectivity for CO2.\n",
      "\n",
      "In summary, by strategically modifying the metal nodes, organic linkers, and synthesis conditions, as well as considering post-synthetic modifications, you can enhance the CO2 selectivity of Mg-MOF-74 for effective carbon capture applications.\n",
      "\n",
      "--- Sources ---\n",
      "Community: 24770\n",
      "Snippet: Community ID: 24770\n",
      "MOFs: [list omitted due to large community size]\n",
      "Summary: The MOF community ID 24770 is unified by its focus on carbon capture applications, specifically targeting CO2 separation from gas mixtures. The recurring properties among these MOFs include high selectivity for CO2 uptake  ...\n",
      "\n",
      "Community: 32251\n",
      "Snippet: Community ID: 32251\n",
      "MOFs: [list omitted due to large community size]\n",
      "Summary: The MOF community ID 32251 is primarily focused on carbon capture applications, highlighting their potential for selective CO2 uptake. The recurring properties among these MOFs suggest they possess high surface areas and t ...\n",
      "\n",
      "Community: 16066\n",
      "Snippet: Community ID: 16066\n",
      "MOFs: [list omitted due to large community size]\n",
      "Summary: The MOF community ID 16066 is primarily focused on carbon capture applications, indicating a shared goal of developing materials for effective CO2 sequestration. The recurring properties among these MOFs include high selec ...\n",
      "\n"
     ]
    }
   ],
   "source": [
    "query = \"how can I synthesize MOF mg-mof-74 to be more selective to CO2 in flue gas\"\n",
    "result = qa_chain.invoke({\"query\": query})\n",
    "\n",
    "print(\"Answer:\\n\", result[\"result\"])\n",
    "print(\"\\n--- Sources ---\")\n",
    "for doc in result[\"source_documents\"]:\n",
    "    print(\"Community:\", doc.metadata[\"communityId\"])\n",
    "    print(\"Snippet:\", doc.page_content[:300], \"...\\n\")"
   ]
  }
 ],
 "metadata": {
  "kernelspec": {
   "display_name": "hackathon",
   "language": "python",
   "name": "python3"
  },
  "language_info": {
   "codemirror_mode": {
    "name": "ipython",
    "version": 3
   },
   "file_extension": ".py",
   "mimetype": "text/x-python",
   "name": "python",
   "nbconvert_exporter": "python",
   "pygments_lexer": "ipython3",
   "version": "3.13.7"
  }
 },
 "nbformat": 4,
 "nbformat_minor": 5
}
